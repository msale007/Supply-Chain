{
 "cells": [
  {
   "cell_type": "code",
   "execution_count": 307,
   "id": "4ea25f3a",
   "metadata": {},
   "outputs": [],
   "source": [
    "import pandas as pd\n",
    "import numpy as np\n",
    "import seaborn as sns\n",
    "import matplotlib.pyplot as plt"
   ]
  },
  {
   "cell_type": "code",
   "execution_count": 308,
   "id": "76bbeaec",
   "metadata": {},
   "outputs": [],
   "source": [
    "NAICS = pd.read_excel('Fairlead Approved Vendor NAICS Codes.xlsx')"
   ]
  },
  {
   "cell_type": "code",
   "execution_count": 309,
   "id": "1b1d97ad",
   "metadata": {},
   "outputs": [],
   "source": [
    "Fairlead_OnTime = pd.read_csv('FairleadOnTimeDeliveryFBW-FINT _Range 3-1-21 _3-1-22.csv')"
   ]
  },
  {
   "cell_type": "code",
   "execution_count": 310,
   "id": "717d420e",
   "metadata": {},
   "outputs": [
    {
     "data": {
      "text/plain": [
       "COMPANY_ID        0\n",
       "PO_ID             0\n",
       "PO_LN_NO          0\n",
       "ITEM_ID           0\n",
       "RECPT_LN_DESC     0\n",
       "DUE_DT            0\n",
       "RECPT_DT          0\n",
       "RECPT_ID          0\n",
       "RECV_UM_CD        1\n",
       "RECV_QTY          0\n",
       "ACCPT_QTY         0\n",
       "REJ_QTY           0\n",
       "RECV_AMT          0\n",
       "ACCPT_AMT         0\n",
       "REJ_AMT           0\n",
       "PROJ_ID           4\n",
       "VEND_ID           0\n",
       "VEND_LONG_NAME    0\n",
       "PO_LINE#          0\n",
       "ON_TIME_TEST      0\n",
       "WEEK_RECPT_DT     0\n",
       "YEAR_RECPT_DT     0\n",
       "DAYS_LATE         0\n",
       "dtype: int64"
      ]
     },
     "execution_count": 310,
     "metadata": {},
     "output_type": "execute_result"
    }
   ],
   "source": [
    "Fairlead_OnTime.isnull().sum()"
   ]
  },
  {
   "cell_type": "code",
   "execution_count": 311,
   "id": "014cde6d",
   "metadata": {},
   "outputs": [],
   "source": [
    "Fairlead_OnTime.dropna(inplace = True)\n",
    "Fairlead_OnTime.reset_index(drop=True,inplace=True)"
   ]
  },
  {
   "cell_type": "code",
   "execution_count": 312,
   "id": "e4b05c93",
   "metadata": {},
   "outputs": [
    {
     "data": {
      "text/plain": [
       "VEND_APPRVL_CD     0\n",
       "COMPANY_ID         0\n",
       "VEND_ID            0\n",
       "VEND_NAME          0\n",
       "OPP_NAICS_CD      55\n",
       "OPP_NAICS_DESC     0\n",
       "PRIME_NAIC         0\n",
       "DUNS_NO           12\n",
       "CAGE_CD           72\n",
       "dtype: int64"
      ]
     },
     "execution_count": 312,
     "metadata": {},
     "output_type": "execute_result"
    }
   ],
   "source": [
    "NAICS.isnull().sum()"
   ]
  },
  {
   "cell_type": "code",
   "execution_count": 313,
   "id": "d1f74930",
   "metadata": {},
   "outputs": [],
   "source": [
    "NAICS.dropna(inplace =True)\n",
    "NAICS.reset_index(drop=True,inplace=True)"
   ]
  },
  {
   "cell_type": "code",
   "execution_count": 314,
   "id": "03e96801",
   "metadata": {},
   "outputs": [
    {
     "data": {
      "text/html": [
       "<div>\n",
       "<style scoped>\n",
       "    .dataframe tbody tr th:only-of-type {\n",
       "        vertical-align: middle;\n",
       "    }\n",
       "\n",
       "    .dataframe tbody tr th {\n",
       "        vertical-align: top;\n",
       "    }\n",
       "\n",
       "    .dataframe thead th {\n",
       "        text-align: right;\n",
       "    }\n",
       "</style>\n",
       "<table border=\"1\" class=\"dataframe\">\n",
       "  <thead>\n",
       "    <tr style=\"text-align: right;\">\n",
       "      <th></th>\n",
       "      <th>COMPANY_ID</th>\n",
       "      <th>PO_ID</th>\n",
       "      <th>PO_LN_NO</th>\n",
       "      <th>ITEM_ID</th>\n",
       "      <th>RECPT_LN_DESC</th>\n",
       "      <th>DUE_DT</th>\n",
       "      <th>RECPT_DT</th>\n",
       "      <th>RECPT_ID</th>\n",
       "      <th>RECV_UM_CD</th>\n",
       "      <th>RECV_QTY</th>\n",
       "      <th>...</th>\n",
       "      <th>ACCPT_AMT</th>\n",
       "      <th>REJ_AMT</th>\n",
       "      <th>PROJ_ID</th>\n",
       "      <th>VEND_ID</th>\n",
       "      <th>VEND_LONG_NAME</th>\n",
       "      <th>PO_LINE#</th>\n",
       "      <th>ON_TIME_TEST</th>\n",
       "      <th>WEEK_RECPT_DT</th>\n",
       "      <th>YEAR_RECPT_DT</th>\n",
       "      <th>DAYS_LATE</th>\n",
       "    </tr>\n",
       "  </thead>\n",
       "  <tbody>\n",
       "    <tr>\n",
       "      <th>0</th>\n",
       "      <td>7</td>\n",
       "      <td>FBW2014701</td>\n",
       "      <td>1</td>\n",
       "      <td>3M 6885</td>\n",
       "      <td>LENS COVER, FOR 6800 RESPIRATOR, 25/BAG</td>\n",
       "      <td>4/2/2021</td>\n",
       "      <td>3/29/2021</td>\n",
       "      <td>POR0013976</td>\n",
       "      <td>BAG</td>\n",
       "      <td>2.0</td>\n",
       "      <td>...</td>\n",
       "      <td>89.0</td>\n",
       "      <td>0.0</td>\n",
       "      <td>07OHD.GENR.03.01</td>\n",
       "      <td>10150</td>\n",
       "      <td>ADVANCE SAFETY EQUIPMENT CO.</td>\n",
       "      <td>FBW2014701_1</td>\n",
       "      <td>On Time</td>\n",
       "      <td>14</td>\n",
       "      <td>2021</td>\n",
       "      <td>0</td>\n",
       "    </tr>\n",
       "    <tr>\n",
       "      <th>1</th>\n",
       "      <td>7</td>\n",
       "      <td>FBW2017059</td>\n",
       "      <td>1</td>\n",
       "      <td>70156521</td>\n",
       "      <td>ACCESSORY, BOOT, SILICONE RUBBER POLYMER, BRAS...</td>\n",
       "      <td>12/1/2021</td>\n",
       "      <td>11/15/2021</td>\n",
       "      <td>POR-003612</td>\n",
       "      <td>EA</td>\n",
       "      <td>40.0</td>\n",
       "      <td>...</td>\n",
       "      <td>100.0</td>\n",
       "      <td>0.0</td>\n",
       "      <td>D1905.0001.08</td>\n",
       "      <td>11525</td>\n",
       "      <td>AWC - ALLIED WIRE &amp; CABLE</td>\n",
       "      <td>FBW2017059_1</td>\n",
       "      <td>On Time</td>\n",
       "      <td>47</td>\n",
       "      <td>2021</td>\n",
       "      <td>0</td>\n",
       "    </tr>\n",
       "  </tbody>\n",
       "</table>\n",
       "<p>2 rows × 23 columns</p>\n",
       "</div>"
      ],
      "text/plain": [
       "   COMPANY_ID       PO_ID  PO_LN_NO   ITEM_ID  \\\n",
       "0           7  FBW2014701         1   3M 6885   \n",
       "1           7  FBW2017059         1  70156521   \n",
       "\n",
       "                                       RECPT_LN_DESC     DUE_DT    RECPT_DT  \\\n",
       "0            LENS COVER, FOR 6800 RESPIRATOR, 25/BAG   4/2/2021   3/29/2021   \n",
       "1  ACCESSORY, BOOT, SILICONE RUBBER POLYMER, BRAS...  12/1/2021  11/15/2021   \n",
       "\n",
       "     RECPT_ID RECV_UM_CD  RECV_QTY  ...  ACCPT_AMT  REJ_AMT           PROJ_ID  \\\n",
       "0  POR0013976        BAG       2.0  ...       89.0      0.0  07OHD.GENR.03.01   \n",
       "1  POR-003612         EA      40.0  ...      100.0      0.0     D1905.0001.08   \n",
       "\n",
       "   VEND_ID                VEND_LONG_NAME      PO_LINE# ON_TIME_TEST  \\\n",
       "0    10150  ADVANCE SAFETY EQUIPMENT CO.  FBW2014701_1      On Time   \n",
       "1    11525     AWC - ALLIED WIRE & CABLE  FBW2017059_1      On Time   \n",
       "\n",
       "  WEEK_RECPT_DT YEAR_RECPT_DT DAYS_LATE  \n",
       "0            14          2021         0  \n",
       "1            47          2021         0  \n",
       "\n",
       "[2 rows x 23 columns]"
      ]
     },
     "execution_count": 314,
     "metadata": {},
     "output_type": "execute_result"
    }
   ],
   "source": [
    "Fairlead_OnTime.head(2)"
   ]
  },
  {
   "cell_type": "code",
   "execution_count": 315,
   "id": "00795e61",
   "metadata": {},
   "outputs": [
    {
     "data": {
      "text/html": [
       "<div>\n",
       "<style scoped>\n",
       "    .dataframe tbody tr th:only-of-type {\n",
       "        vertical-align: middle;\n",
       "    }\n",
       "\n",
       "    .dataframe tbody tr th {\n",
       "        vertical-align: top;\n",
       "    }\n",
       "\n",
       "    .dataframe thead th {\n",
       "        text-align: right;\n",
       "    }\n",
       "</style>\n",
       "<table border=\"1\" class=\"dataframe\">\n",
       "  <thead>\n",
       "    <tr style=\"text-align: right;\">\n",
       "      <th></th>\n",
       "      <th>VEND_APPRVL_CD</th>\n",
       "      <th>COMPANY_ID</th>\n",
       "      <th>VEND_ID</th>\n",
       "      <th>VEND_NAME</th>\n",
       "      <th>OPP_NAICS_CD</th>\n",
       "      <th>OPP_NAICS_DESC</th>\n",
       "      <th>PRIME_NAIC</th>\n",
       "      <th>DUNS_NO</th>\n",
       "      <th>CAGE_CD</th>\n",
       "    </tr>\n",
       "  </thead>\n",
       "  <tbody>\n",
       "    <tr>\n",
       "      <th>0</th>\n",
       "      <td>A</td>\n",
       "      <td>2</td>\n",
       "      <td>100-02</td>\n",
       "      <td>SPIVEY DISPOSAL, LLC</td>\n",
       "      <td>562998.0</td>\n",
       "      <td>All Other Miscellaneous Waste Management Services</td>\n",
       "      <td>N</td>\n",
       "      <td>145902990</td>\n",
       "      <td>54KV4</td>\n",
       "    </tr>\n",
       "    <tr>\n",
       "      <th>1</th>\n",
       "      <td>A</td>\n",
       "      <td>2</td>\n",
       "      <td>101-02</td>\n",
       "      <td>K.R. CAMPBELL INC. DBA HO</td>\n",
       "      <td>334515.0</td>\n",
       "      <td>Instrument Manufacturing for Measuring and Tes...</td>\n",
       "      <td>N</td>\n",
       "      <td>032212990</td>\n",
       "      <td>07KK8</td>\n",
       "    </tr>\n",
       "  </tbody>\n",
       "</table>\n",
       "</div>"
      ],
      "text/plain": [
       "  VEND_APPRVL_CD  COMPANY_ID VEND_ID                  VEND_NAME  OPP_NAICS_CD  \\\n",
       "0              A           2  100-02      SPIVEY DISPOSAL, LLC       562998.0   \n",
       "1              A           2  101-02  K.R. CAMPBELL INC. DBA HO      334515.0   \n",
       "\n",
       "                                      OPP_NAICS_DESC PRIME_NAIC    DUNS_NO  \\\n",
       "0  All Other Miscellaneous Waste Management Services          N  145902990   \n",
       "1  Instrument Manufacturing for Measuring and Tes...          N  032212990   \n",
       "\n",
       "  CAGE_CD  \n",
       "0   54KV4  \n",
       "1   07KK8  "
      ]
     },
     "execution_count": 315,
     "metadata": {},
     "output_type": "execute_result"
    }
   ],
   "source": [
    "NAICS.head(2)"
   ]
  },
  {
   "cell_type": "code",
   "execution_count": 316,
   "id": "854ca89c",
   "metadata": {},
   "outputs": [],
   "source": [
    "merged = NAICS[['VEND_ID','OPP_NAICS_CD']].merge(Fairlead_OnTime[['RECV_QTY','RECV_AMT','VEND_ID','ON_TIME_TEST']], on= 'VEND_ID', how='inner')"
   ]
  },
  {
   "cell_type": "code",
   "execution_count": 317,
   "id": "33142338",
   "metadata": {},
   "outputs": [
    {
     "data": {
      "text/html": [
       "<div>\n",
       "<style scoped>\n",
       "    .dataframe tbody tr th:only-of-type {\n",
       "        vertical-align: middle;\n",
       "    }\n",
       "\n",
       "    .dataframe tbody tr th {\n",
       "        vertical-align: top;\n",
       "    }\n",
       "\n",
       "    .dataframe thead th {\n",
       "        text-align: right;\n",
       "    }\n",
       "</style>\n",
       "<table border=\"1\" class=\"dataframe\">\n",
       "  <thead>\n",
       "    <tr style=\"text-align: right;\">\n",
       "      <th></th>\n",
       "      <th>VEND_ID</th>\n",
       "      <th>OPP_NAICS_CD</th>\n",
       "      <th>RECV_QTY</th>\n",
       "      <th>RECV_AMT</th>\n",
       "      <th>ON_TIME_TEST</th>\n",
       "    </tr>\n",
       "  </thead>\n",
       "  <tbody>\n",
       "    <tr>\n",
       "      <th>0</th>\n",
       "      <td>120005</td>\n",
       "      <td>334419.0</td>\n",
       "      <td>21.0</td>\n",
       "      <td>33684.0</td>\n",
       "      <td>On Time</td>\n",
       "    </tr>\n",
       "    <tr>\n",
       "      <th>1</th>\n",
       "      <td>120005</td>\n",
       "      <td>334419.0</td>\n",
       "      <td>21.0</td>\n",
       "      <td>7287.0</td>\n",
       "      <td>On Time</td>\n",
       "    </tr>\n",
       "    <tr>\n",
       "      <th>2</th>\n",
       "      <td>120005</td>\n",
       "      <td>334419.0</td>\n",
       "      <td>18.0</td>\n",
       "      <td>28872.0</td>\n",
       "      <td>On Time</td>\n",
       "    </tr>\n",
       "    <tr>\n",
       "      <th>3</th>\n",
       "      <td>120005</td>\n",
       "      <td>334419.0</td>\n",
       "      <td>18.0</td>\n",
       "      <td>6246.0</td>\n",
       "      <td>On Time</td>\n",
       "    </tr>\n",
       "    <tr>\n",
       "      <th>4</th>\n",
       "      <td>120005</td>\n",
       "      <td>335999.0</td>\n",
       "      <td>21.0</td>\n",
       "      <td>33684.0</td>\n",
       "      <td>On Time</td>\n",
       "    </tr>\n",
       "  </tbody>\n",
       "</table>\n",
       "</div>"
      ],
      "text/plain": [
       "  VEND_ID  OPP_NAICS_CD  RECV_QTY  RECV_AMT ON_TIME_TEST\n",
       "0  120005      334419.0      21.0   33684.0      On Time\n",
       "1  120005      334419.0      21.0    7287.0      On Time\n",
       "2  120005      334419.0      18.0   28872.0      On Time\n",
       "3  120005      334419.0      18.0    6246.0      On Time\n",
       "4  120005      335999.0      21.0   33684.0      On Time"
      ]
     },
     "execution_count": 317,
     "metadata": {},
     "output_type": "execute_result"
    }
   ],
   "source": [
    "merged.head()"
   ]
  },
  {
   "cell_type": "code",
   "execution_count": 318,
   "id": "5d26ee87",
   "metadata": {},
   "outputs": [
    {
     "data": {
      "text/plain": [
       "(72896, 5)"
      ]
     },
     "execution_count": 318,
     "metadata": {},
     "output_type": "execute_result"
    }
   ],
   "source": [
    "merged.shape"
   ]
  },
  {
   "cell_type": "code",
   "execution_count": 319,
   "id": "916c273d",
   "metadata": {},
   "outputs": [],
   "source": [
    "# type(merged['OPP_NAICS_CD'][0])"
   ]
  },
  {
   "cell_type": "code",
   "execution_count": 320,
   "id": "a2dfab23",
   "metadata": {},
   "outputs": [],
   "source": [
    "# str(merged['OPP_NAICS_CD'][0])[:2]"
   ]
  },
  {
   "cell_type": "code",
   "execution_count": 321,
   "id": "a26f45ab",
   "metadata": {},
   "outputs": [],
   "source": [
    "def Main_code_2(x):\n",
    "    return str(x)[:2]"
   ]
  },
  {
   "cell_type": "code",
   "execution_count": 322,
   "id": "7c726178",
   "metadata": {},
   "outputs": [],
   "source": [
    "# Main_code_2(merged['OPP_NAICS_CD'][0])"
   ]
  },
  {
   "cell_type": "code",
   "execution_count": 323,
   "id": "b6edb23a",
   "metadata": {},
   "outputs": [],
   "source": [
    "merged['Main_code_2']= merged['OPP_NAICS_CD'].apply(Main_code_2) "
   ]
  },
  {
   "cell_type": "code",
   "execution_count": 324,
   "id": "331e1e4b",
   "metadata": {},
   "outputs": [
    {
     "data": {
      "text/html": [
       "<div>\n",
       "<style scoped>\n",
       "    .dataframe tbody tr th:only-of-type {\n",
       "        vertical-align: middle;\n",
       "    }\n",
       "\n",
       "    .dataframe tbody tr th {\n",
       "        vertical-align: top;\n",
       "    }\n",
       "\n",
       "    .dataframe thead th {\n",
       "        text-align: right;\n",
       "    }\n",
       "</style>\n",
       "<table border=\"1\" class=\"dataframe\">\n",
       "  <thead>\n",
       "    <tr style=\"text-align: right;\">\n",
       "      <th></th>\n",
       "      <th>VEND_ID</th>\n",
       "      <th>OPP_NAICS_CD</th>\n",
       "      <th>RECV_QTY</th>\n",
       "      <th>RECV_AMT</th>\n",
       "      <th>ON_TIME_TEST</th>\n",
       "      <th>Main_code_2</th>\n",
       "    </tr>\n",
       "  </thead>\n",
       "  <tbody>\n",
       "    <tr>\n",
       "      <th>0</th>\n",
       "      <td>120005</td>\n",
       "      <td>334419.0</td>\n",
       "      <td>21.0</td>\n",
       "      <td>33684.0</td>\n",
       "      <td>On Time</td>\n",
       "      <td>33</td>\n",
       "    </tr>\n",
       "    <tr>\n",
       "      <th>1</th>\n",
       "      <td>120005</td>\n",
       "      <td>334419.0</td>\n",
       "      <td>21.0</td>\n",
       "      <td>7287.0</td>\n",
       "      <td>On Time</td>\n",
       "      <td>33</td>\n",
       "    </tr>\n",
       "    <tr>\n",
       "      <th>2</th>\n",
       "      <td>120005</td>\n",
       "      <td>334419.0</td>\n",
       "      <td>18.0</td>\n",
       "      <td>28872.0</td>\n",
       "      <td>On Time</td>\n",
       "      <td>33</td>\n",
       "    </tr>\n",
       "    <tr>\n",
       "      <th>3</th>\n",
       "      <td>120005</td>\n",
       "      <td>334419.0</td>\n",
       "      <td>18.0</td>\n",
       "      <td>6246.0</td>\n",
       "      <td>On Time</td>\n",
       "      <td>33</td>\n",
       "    </tr>\n",
       "    <tr>\n",
       "      <th>4</th>\n",
       "      <td>120005</td>\n",
       "      <td>335999.0</td>\n",
       "      <td>21.0</td>\n",
       "      <td>33684.0</td>\n",
       "      <td>On Time</td>\n",
       "      <td>33</td>\n",
       "    </tr>\n",
       "  </tbody>\n",
       "</table>\n",
       "</div>"
      ],
      "text/plain": [
       "  VEND_ID  OPP_NAICS_CD  RECV_QTY  RECV_AMT ON_TIME_TEST Main_code_2\n",
       "0  120005      334419.0      21.0   33684.0      On Time          33\n",
       "1  120005      334419.0      21.0    7287.0      On Time          33\n",
       "2  120005      334419.0      18.0   28872.0      On Time          33\n",
       "3  120005      334419.0      18.0    6246.0      On Time          33\n",
       "4  120005      335999.0      21.0   33684.0      On Time          33"
      ]
     },
     "execution_count": 324,
     "metadata": {},
     "output_type": "execute_result"
    }
   ],
   "source": [
    "merged.head()"
   ]
  },
  {
   "cell_type": "code",
   "execution_count": 325,
   "id": "0d8f14ba",
   "metadata": {},
   "outputs": [],
   "source": [
    "merged = merged.drop(['VEND_ID','OPP_NAICS_CD'],axis=1)"
   ]
  },
  {
   "cell_type": "code",
   "execution_count": 326,
   "id": "910b6b42",
   "metadata": {},
   "outputs": [],
   "source": [
    "# merged.isnull().sum()"
   ]
  },
  {
   "cell_type": "code",
   "execution_count": 327,
   "id": "bebeac10",
   "metadata": {},
   "outputs": [
    {
     "data": {
      "text/html": [
       "<div>\n",
       "<style scoped>\n",
       "    .dataframe tbody tr th:only-of-type {\n",
       "        vertical-align: middle;\n",
       "    }\n",
       "\n",
       "    .dataframe tbody tr th {\n",
       "        vertical-align: top;\n",
       "    }\n",
       "\n",
       "    .dataframe thead th {\n",
       "        text-align: right;\n",
       "    }\n",
       "</style>\n",
       "<table border=\"1\" class=\"dataframe\">\n",
       "  <thead>\n",
       "    <tr style=\"text-align: right;\">\n",
       "      <th></th>\n",
       "      <th>RECV_QTY</th>\n",
       "      <th>RECV_AMT</th>\n",
       "      <th>ON_TIME_TEST</th>\n",
       "      <th>Main_code_2</th>\n",
       "    </tr>\n",
       "  </thead>\n",
       "  <tbody>\n",
       "    <tr>\n",
       "      <th>0</th>\n",
       "      <td>21.0</td>\n",
       "      <td>33684.0</td>\n",
       "      <td>On Time</td>\n",
       "      <td>33</td>\n",
       "    </tr>\n",
       "    <tr>\n",
       "      <th>1</th>\n",
       "      <td>21.0</td>\n",
       "      <td>7287.0</td>\n",
       "      <td>On Time</td>\n",
       "      <td>33</td>\n",
       "    </tr>\n",
       "    <tr>\n",
       "      <th>2</th>\n",
       "      <td>18.0</td>\n",
       "      <td>28872.0</td>\n",
       "      <td>On Time</td>\n",
       "      <td>33</td>\n",
       "    </tr>\n",
       "    <tr>\n",
       "      <th>3</th>\n",
       "      <td>18.0</td>\n",
       "      <td>6246.0</td>\n",
       "      <td>On Time</td>\n",
       "      <td>33</td>\n",
       "    </tr>\n",
       "    <tr>\n",
       "      <th>4</th>\n",
       "      <td>21.0</td>\n",
       "      <td>33684.0</td>\n",
       "      <td>On Time</td>\n",
       "      <td>33</td>\n",
       "    </tr>\n",
       "  </tbody>\n",
       "</table>\n",
       "</div>"
      ],
      "text/plain": [
       "   RECV_QTY  RECV_AMT ON_TIME_TEST Main_code_2\n",
       "0      21.0   33684.0      On Time          33\n",
       "1      21.0    7287.0      On Time          33\n",
       "2      18.0   28872.0      On Time          33\n",
       "3      18.0    6246.0      On Time          33\n",
       "4      21.0   33684.0      On Time          33"
      ]
     },
     "execution_count": 327,
     "metadata": {},
     "output_type": "execute_result"
    }
   ],
   "source": [
    "merged.head()"
   ]
  },
  {
   "cell_type": "code",
   "execution_count": 328,
   "id": "c15de650",
   "metadata": {},
   "outputs": [
    {
     "data": {
      "text/plain": [
       "On Time    57528\n",
       "Late       15368\n",
       "Name: ON_TIME_TEST, dtype: int64"
      ]
     },
     "execution_count": 328,
     "metadata": {},
     "output_type": "execute_result"
    }
   ],
   "source": [
    "merged['ON_TIME_TEST'].value_counts()"
   ]
  },
  {
   "cell_type": "code",
   "execution_count": 329,
   "id": "db9b6696",
   "metadata": {},
   "outputs": [
    {
     "data": {
      "text/plain": [
       "<AxesSubplot: xlabel='ON_TIME_TEST', ylabel='count'>"
      ]
     },
     "execution_count": 329,
     "metadata": {},
     "output_type": "execute_result"
    },
    {
     "data": {
      "image/png": "[encoded data removed]",
      "text/plain": [
       "<Figure size 640x480 with 1 Axes>"
      ]
     },
     "metadata": {},
     "output_type": "display_data"
    }
   ],
   "source": [
    "sns.set_style('whitegrid')\n",
    "sns.countplot(x='ON_TIME_TEST',data=merged,palette='RdBu_r')"
   ]
  },
  {
   "cell_type": "markdown",
   "id": "34add756",
   "metadata": {},
   "source": [
    "https://www.kaggle.com/code/prashant111/logistic-regression-classifier-tutorial#19.-k-Fold-Cross-Validation-"
   ]
  },
  {
   "cell_type": "markdown",
   "id": "d091aa1f",
   "metadata": {},
   "source": [
    "## Converting Categorical Features "
   ]
  },
  {
   "cell_type": "code",
   "execution_count": 330,
   "id": "145e07a5",
   "metadata": {},
   "outputs": [],
   "source": [
    "Main_code_2 = pd.get_dummies(merged['Main_code_2'],drop_first=True)"
   ]
  },
  {
   "cell_type": "code",
   "execution_count": 331,
   "id": "cef861a0",
   "metadata": {},
   "outputs": [],
   "source": [
    "ON_TIME_TEST = pd.get_dummies(merged['ON_TIME_TEST'],drop_first=True)"
   ]
  },
  {
   "cell_type": "code",
   "execution_count": 332,
   "id": "74c59f77",
   "metadata": {},
   "outputs": [],
   "source": [
    "merged.drop(['Main_code_2','ON_TIME_TEST'],axis=1,inplace=True)"
   ]
  },
  {
   "cell_type": "code",
   "execution_count": 333,
   "id": "fd22d5d8",
   "metadata": {},
   "outputs": [],
   "source": [
    "merged = pd.concat([merged,Main_code_2,ON_TIME_TEST],axis=1)"
   ]
  },
  {
   "cell_type": "markdown",
   "id": "39b55cef",
   "metadata": {},
   "source": [
    "###  0: Late , 1: On_Time"
   ]
  },
  {
   "cell_type": "code",
   "execution_count": 334,
   "id": "483814cd",
   "metadata": {},
   "outputs": [
    {
     "data": {
      "text/html": [
       "<div>\n",
       "<style scoped>\n",
       "    .dataframe tbody tr th:only-of-type {\n",
       "        vertical-align: middle;\n",
       "    }\n",
       "\n",
       "    .dataframe tbody tr th {\n",
       "        vertical-align: top;\n",
       "    }\n",
       "\n",
       "    .dataframe thead th {\n",
       "        text-align: right;\n",
       "    }\n",
       "</style>\n",
       "<table border=\"1\" class=\"dataframe\">\n",
       "  <thead>\n",
       "    <tr style=\"text-align: right;\">\n",
       "      <th></th>\n",
       "      <th>RECV_QTY</th>\n",
       "      <th>RECV_AMT</th>\n",
       "      <th>22</th>\n",
       "      <th>23</th>\n",
       "      <th>31</th>\n",
       "      <th>32</th>\n",
       "      <th>33</th>\n",
       "      <th>42</th>\n",
       "      <th>44</th>\n",
       "      <th>45</th>\n",
       "      <th>...</th>\n",
       "      <th>49</th>\n",
       "      <th>51</th>\n",
       "      <th>52</th>\n",
       "      <th>53</th>\n",
       "      <th>54</th>\n",
       "      <th>55</th>\n",
       "      <th>56</th>\n",
       "      <th>81</th>\n",
       "      <th>92</th>\n",
       "      <th>On Time</th>\n",
       "    </tr>\n",
       "  </thead>\n",
       "  <tbody>\n",
       "    <tr>\n",
       "      <th>0</th>\n",
       "      <td>21.0</td>\n",
       "      <td>33684.0</td>\n",
       "      <td>0</td>\n",
       "      <td>0</td>\n",
       "      <td>0</td>\n",
       "      <td>0</td>\n",
       "      <td>1</td>\n",
       "      <td>0</td>\n",
       "      <td>0</td>\n",
       "      <td>0</td>\n",
       "      <td>...</td>\n",
       "      <td>0</td>\n",
       "      <td>0</td>\n",
       "      <td>0</td>\n",
       "      <td>0</td>\n",
       "      <td>0</td>\n",
       "      <td>0</td>\n",
       "      <td>0</td>\n",
       "      <td>0</td>\n",
       "      <td>0</td>\n",
       "      <td>1</td>\n",
       "    </tr>\n",
       "    <tr>\n",
       "      <th>1</th>\n",
       "      <td>21.0</td>\n",
       "      <td>7287.0</td>\n",
       "      <td>0</td>\n",
       "      <td>0</td>\n",
       "      <td>0</td>\n",
       "      <td>0</td>\n",
       "      <td>1</td>\n",
       "      <td>0</td>\n",
       "      <td>0</td>\n",
       "      <td>0</td>\n",
       "      <td>...</td>\n",
       "      <td>0</td>\n",
       "      <td>0</td>\n",
       "      <td>0</td>\n",
       "      <td>0</td>\n",
       "      <td>0</td>\n",
       "      <td>0</td>\n",
       "      <td>0</td>\n",
       "      <td>0</td>\n",
       "      <td>0</td>\n",
       "      <td>1</td>\n",
       "    </tr>\n",
       "    <tr>\n",
       "      <th>2</th>\n",
       "      <td>18.0</td>\n",
       "      <td>28872.0</td>\n",
       "      <td>0</td>\n",
       "      <td>0</td>\n",
       "      <td>0</td>\n",
       "      <td>0</td>\n",
       "      <td>1</td>\n",
       "      <td>0</td>\n",
       "      <td>0</td>\n",
       "      <td>0</td>\n",
       "      <td>...</td>\n",
       "      <td>0</td>\n",
       "      <td>0</td>\n",
       "      <td>0</td>\n",
       "      <td>0</td>\n",
       "      <td>0</td>\n",
       "      <td>0</td>\n",
       "      <td>0</td>\n",
       "      <td>0</td>\n",
       "      <td>0</td>\n",
       "      <td>1</td>\n",
       "    </tr>\n",
       "    <tr>\n",
       "      <th>3</th>\n",
       "      <td>18.0</td>\n",
       "      <td>6246.0</td>\n",
       "      <td>0</td>\n",
       "      <td>0</td>\n",
       "      <td>0</td>\n",
       "      <td>0</td>\n",
       "      <td>1</td>\n",
       "      <td>0</td>\n",
       "      <td>0</td>\n",
       "      <td>0</td>\n",
       "      <td>...</td>\n",
       "      <td>0</td>\n",
       "      <td>0</td>\n",
       "      <td>0</td>\n",
       "      <td>0</td>\n",
       "      <td>0</td>\n",
       "      <td>0</td>\n",
       "      <td>0</td>\n",
       "      <td>0</td>\n",
       "      <td>0</td>\n",
       "      <td>1</td>\n",
       "    </tr>\n",
       "    <tr>\n",
       "      <th>4</th>\n",
       "      <td>21.0</td>\n",
       "      <td>33684.0</td>\n",
       "      <td>0</td>\n",
       "      <td>0</td>\n",
       "      <td>0</td>\n",
       "      <td>0</td>\n",
       "      <td>1</td>\n",
       "      <td>0</td>\n",
       "      <td>0</td>\n",
       "      <td>0</td>\n",
       "      <td>...</td>\n",
       "      <td>0</td>\n",
       "      <td>0</td>\n",
       "      <td>0</td>\n",
       "      <td>0</td>\n",
       "      <td>0</td>\n",
       "      <td>0</td>\n",
       "      <td>0</td>\n",
       "      <td>0</td>\n",
       "      <td>0</td>\n",
       "      <td>1</td>\n",
       "    </tr>\n",
       "  </tbody>\n",
       "</table>\n",
       "<p>5 rows × 21 columns</p>\n",
       "</div>"
      ],
      "text/plain": [
       "   RECV_QTY  RECV_AMT  22  23  31  32  33  42  44  45  ...  49  51  52  53  \\\n",
       "0      21.0   33684.0   0   0   0   0   1   0   0   0  ...   0   0   0   0   \n",
       "1      21.0    7287.0   0   0   0   0   1   0   0   0  ...   0   0   0   0   \n",
       "2      18.0   28872.0   0   0   0   0   1   0   0   0  ...   0   0   0   0   \n",
       "3      18.0    6246.0   0   0   0   0   1   0   0   0  ...   0   0   0   0   \n",
       "4      21.0   33684.0   0   0   0   0   1   0   0   0  ...   0   0   0   0   \n",
       "\n",
       "   54  55  56  81  92  On Time  \n",
       "0   0   0   0   0   0        1  \n",
       "1   0   0   0   0   0        1  \n",
       "2   0   0   0   0   0        1  \n",
       "3   0   0   0   0   0        1  \n",
       "4   0   0   0   0   0        1  \n",
       "\n",
       "[5 rows x 21 columns]"
      ]
     },
     "execution_count": 334,
     "metadata": {},
     "output_type": "execute_result"
    }
   ],
   "source": [
    "merged.head()"
   ]
  },
  {
   "cell_type": "markdown",
   "id": "095d96d6",
   "metadata": {},
   "source": [
    "Our data is ready for our model!\n",
    "\n",
    "# Building a Logistic Regression model\n",
    "\n",
    "splitting our data into a training set and test set.\n",
    "\n",
    "## Train Test Split"
   ]
  },
  {
   "cell_type": "code",
   "execution_count": 335,
   "id": "373a2413",
   "metadata": {},
   "outputs": [],
   "source": [
    "from sklearn.model_selection import train_test_split"
   ]
  },
  {
   "cell_type": "code",
   "execution_count": 336,
   "id": "e5d9fc1c",
   "metadata": {},
   "outputs": [],
   "source": [
    "X_train, X_test, y_train, y_test = train_test_split(merged.drop('On Time',axis=1), \n",
    "                                                    merged['On Time'], test_size=0.30, \n",
    "                                                    random_state=101)"
   ]
  },
  {
   "cell_type": "markdown",
   "id": "8f1957ab",
   "metadata": {},
   "source": [
    "##  Feature Scaling"
   ]
  },
  {
   "cell_type": "code",
   "execution_count": 337,
   "id": "2b302d35",
   "metadata": {},
   "outputs": [],
   "source": [
    "from sklearn.preprocessing import MinMaxScaler\n",
    "\n",
    "scaler = MinMaxScaler()\n",
    "\n",
    "X_train = scaler.fit_transform(X_train)\n",
    "\n",
    "X_test = scaler.transform(X_test)"
   ]
  },
  {
   "cell_type": "markdown",
   "id": "9afc6549",
   "metadata": {},
   "source": [
    "## Training and Predicting"
   ]
  },
  {
   "cell_type": "code",
   "execution_count": 338,
   "id": "551683fd",
   "metadata": {},
   "outputs": [],
   "source": [
    "from sklearn.linear_model import LogisticRegression"
   ]
  },
  {
   "cell_type": "code",
   "execution_count": 339,
   "id": "a552b4bf",
   "metadata": {},
   "outputs": [
    {
     "data": {
      "text/html": [
       "<style>#sk-container-id-14 {color: black;background-color: white;}#sk-container-id-14 pre{padding: 0;}#sk-container-id-14 div.sk-toggleable {background-color: white;}#sk-container-id-14 label.sk-toggleable__label {cursor: pointer;display: block;width: 100%;margin-bottom: 0;padding: 0.3em;box-sizing: border-box;text-align: center;}#sk-container-id-14 label.sk-toggleable__label-arrow:before {content: \"▸\";float: left;margin-right: 0.25em;color: #696969;}#sk-container-id-14 label.sk-toggleable__label-arrow:hover:before {color: black;}#sk-container-id-14 div.sk-estimator:hover label.sk-toggleable__label-arrow:before {color: black;}#sk-container-id-14 div.sk-toggleable__content {max-height: 0;max-width: 0;overflow: hidden;text-align: left;background-color: #f0f8ff;}#sk-container-id-14 div.sk-toggleable__content pre {margin: 0.2em;color: black;border-radius: 0.25em;background-color: #f0f8ff;}#sk-container-id-14 input.sk-toggleable__control:checked~div.sk-toggleable__content {max-height: 200px;max-width: 100%;overflow: auto;}#sk-container-id-14 input.sk-toggleable__control:checked~label.sk-toggleable__label-arrow:before {content: \"▾\";}#sk-container-id-14 div.sk-estimator input.sk-toggleable__control:checked~label.sk-toggleable__label {background-color: #d4ebff;}#sk-container-id-14 div.sk-label input.sk-toggleable__control:checked~label.sk-toggleable__label {background-color: #d4ebff;}#sk-container-id-14 input.sk-hidden--visually {border: 0;clip: rect(1px 1px 1px 1px);clip: rect(1px, 1px, 1px, 1px);height: 1px;margin: -1px;overflow: hidden;padding: 0;position: absolute;width: 1px;}#sk-container-id-14 div.sk-estimator {font-family: monospace;background-color: #f0f8ff;border: 1px dotted black;border-radius: 0.25em;box-sizing: border-box;margin-bottom: 0.5em;}#sk-container-id-14 div.sk-estimator:hover {background-color: #d4ebff;}#sk-container-id-14 div.sk-parallel-item::after {content: \"\";width: 100%;border-bottom: 1px solid gray;flex-grow: 1;}#sk-container-id-14 div.sk-label:hover label.sk-toggleable__label {background-color: #d4ebff;}#sk-container-id-14 div.sk-serial::before {content: \"\";position: absolute;border-left: 1px solid gray;box-sizing: border-box;top: 0;bottom: 0;left: 50%;z-index: 0;}#sk-container-id-14 div.sk-serial {display: flex;flex-direction: column;align-items: center;background-color: white;padding-right: 0.2em;padding-left: 0.2em;position: relative;}#sk-container-id-14 div.sk-item {position: relative;z-index: 1;}#sk-container-id-14 div.sk-parallel {display: flex;align-items: stretch;justify-content: center;background-color: white;position: relative;}#sk-container-id-14 div.sk-item::before, #sk-container-id-14 div.sk-parallel-item::before {content: \"\";position: absolute;border-left: 1px solid gray;box-sizing: border-box;top: 0;bottom: 0;left: 50%;z-index: -1;}#sk-container-id-14 div.sk-parallel-item {display: flex;flex-direction: column;z-index: 1;position: relative;background-color: white;}#sk-container-id-14 div.sk-parallel-item:first-child::after {align-self: flex-end;width: 50%;}#sk-container-id-14 div.sk-parallel-item:last-child::after {align-self: flex-start;width: 50%;}#sk-container-id-14 div.sk-parallel-item:only-child::after {width: 0;}#sk-container-id-14 div.sk-dashed-wrapped {border: 1px dashed gray;margin: 0 0.4em 0.5em 0.4em;box-sizing: border-box;padding-bottom: 0.4em;background-color: white;}#sk-container-id-14 div.sk-label label {font-family: monospace;font-weight: bold;display: inline-block;line-height: 1.2em;}#sk-container-id-14 div.sk-label-container {text-align: center;}#sk-container-id-14 div.sk-container {/* jupyter's `normalize.less` sets `[hidden] { display: none; }` but bootstrap.min.css set `[hidden] { display: none !important; }` so we also need the `!important` here to be able to override the default hidden behavior on the sphinx rendered scikit-learn.org. See: https://github.com/scikit-learn/scikit-learn/issues/21755 */display: inline-block !important;position: relative;}#sk-container-id-14 div.sk-text-repr-fallback {display: none;}</style><div id=\"sk-container-id-14\" class=\"sk-top-container\"><div class=\"sk-text-repr-fallback\"><pre>LogisticRegression(random_state=0, solver=&#x27;liblinear&#x27;)</pre><b>In a Jupyter environment, please rerun this cell to show the HTML representation or trust the notebook. <br />On GitHub, the HTML representation is unable to render, please try loading this page with nbviewer.org.</b></div><div class=\"sk-container\" hidden><div class=\"sk-item\"><div class=\"sk-estimator sk-toggleable\"><input class=\"sk-toggleable__control sk-hidden--visually\" id=\"sk-estimator-id-14\" type=\"checkbox\" checked><label for=\"sk-estimator-id-14\" class=\"sk-toggleable__label sk-toggleable__label-arrow\">LogisticRegression</label><div class=\"sk-toggleable__content\"><pre>LogisticRegression(random_state=0, solver=&#x27;liblinear&#x27;)</pre></div></div></div></div></div>"
      ],
      "text/plain": [
       "LogisticRegression(random_state=0, solver='liblinear')"
      ]
     },
     "execution_count": 339,
     "metadata": {},
     "output_type": "execute_result"
    }
   ],
   "source": [
    "logmodel = LogisticRegression(solver='liblinear', random_state=0)\n",
    "logmodel.fit(X_train,y_train)"
   ]
  },
  {
   "cell_type": "code",
   "execution_count": 340,
   "id": "8e8e2b10",
   "metadata": {},
   "outputs": [],
   "source": [
    "predictions = logmodel.predict(X_test)"
   ]
  },
  {
   "cell_type": "markdown",
   "id": "67c8abe1",
   "metadata": {},
   "source": [
    "## Evaluation"
   ]
  },
  {
   "cell_type": "code",
   "execution_count": 341,
   "id": "f5c76a22",
   "metadata": {},
   "outputs": [],
   "source": [
    "from sklearn.metrics import classification_report"
   ]
  },
  {
   "cell_type": "code",
   "execution_count": 342,
   "id": "67a4f758",
   "metadata": {},
   "outputs": [
    {
     "name": "stdout",
     "output_type": "stream",
     "text": [
      "              precision    recall  f1-score   support\n",
      "\n",
      "           0       0.63      0.01      0.01      4595\n",
      "           1       0.79      1.00      0.88     17274\n",
      "\n",
      "    accuracy                           0.79     21869\n",
      "   macro avg       0.71      0.50      0.45     21869\n",
      "weighted avg       0.76      0.79      0.70     21869\n",
      "\n"
     ]
    }
   ],
   "source": [
    "print(classification_report(y_test,predictions))"
   ]
  },
  {
   "cell_type": "code",
   "execution_count": 343,
   "id": "0fd357da",
   "metadata": {},
   "outputs": [
    {
     "name": "stdout",
     "output_type": "stream",
     "text": [
      "Confusion matrix\n",
      "\n",
      " [[   26  4569]\n",
      " [   15 17259]]\n"
     ]
    }
   ],
   "source": [
    "from sklearn.metrics import confusion_matrix\n",
    "\n",
    "cm = confusion_matrix(y_test, predictions)\n",
    "print('Confusion matrix\\n\\n', cm)"
   ]
  },
  {
   "cell_type": "code",
   "execution_count": 344,
   "id": "583b5ffa",
   "metadata": {},
   "outputs": [
    {
     "data": {
      "text/plain": [
       "<AxesSubplot: >"
      ]
     },
     "execution_count": 344,
     "metadata": {},
     "output_type": "execute_result"
    },
    {
     "data": {
      "image/png": "[encoded data removed]",
      "text/plain": [
       "<Figure size 640x480 with 2 Axes>"
      ]
     },
     "metadata": {},
     "output_type": "display_data"
    }
   ],
   "source": [
    "# visualize confusion matrix with seaborn heatmap\n",
    "\n",
    "cm_matrix = pd.DataFrame(data=cm, columns=['Actual Positive:1', 'Actual Negative:0'], \n",
    "                                 index=['Predict Positive:1', 'Predict Negative:0'])\n",
    "\n",
    "sns.heatmap(cm_matrix, annot=True, fmt='d', cmap='YlGnBu')"
   ]
  },
  {
   "cell_type": "code",
   "execution_count": 345,
   "id": "ba720f9c",
   "metadata": {},
   "outputs": [],
   "source": [
    "TP = cm[0,0]\n",
    "TN = cm[1,1]\n",
    "FP = cm[0,1]\n",
    "FN = cm[1,0]"
   ]
  },
  {
   "cell_type": "code",
   "execution_count": 346,
   "id": "76a647f3",
   "metadata": {},
   "outputs": [
    {
     "name": "stdout",
     "output_type": "stream",
     "text": [
      "Classification accuracy : 0.7904\n"
     ]
    }
   ],
   "source": [
    "# print classification accuracy\n",
    "\n",
    "classification_accuracy = (TP + TN) / float(TP + TN + FP + FN)\n",
    "\n",
    "print('Classification accuracy : {0:0.4f}'.format(classification_accuracy))"
   ]
  },
  {
   "cell_type": "code",
   "execution_count": 347,
   "id": "6f6640c3",
   "metadata": {},
   "outputs": [
    {
     "name": "stdout",
     "output_type": "stream",
     "text": [
      "Classification error : 0.2096\n"
     ]
    }
   ],
   "source": [
    "# print classification error\n",
    "\n",
    "classification_error = (FP + FN) / float(TP + TN + FP + FN)\n",
    "\n",
    "print('Classification error : {0:0.4f}'.format(classification_error))"
   ]
  },
  {
   "cell_type": "code",
   "execution_count": 348,
   "id": "45dcb422",
   "metadata": {},
   "outputs": [
    {
     "name": "stdout",
     "output_type": "stream",
     "text": [
      "Precision : 0.0057\n"
     ]
    }
   ],
   "source": [
    "# print precision score\n",
    "\n",
    "precision = TP / float(TP + FP)\n",
    "\n",
    "\n",
    "print('Precision : {0:0.4f}'.format(precision))"
   ]
  },
  {
   "cell_type": "markdown",
   "id": "f3687332",
   "metadata": {},
   "source": [
    "###  Precision identifies the proportion of correctly predicted positive outcome. It is more concerned with the positive class than the negative class."
   ]
  },
  {
   "cell_type": "code",
   "execution_count": 350,
   "id": "406c00ee",
   "metadata": {},
   "outputs": [
    {
     "name": "stdout",
     "output_type": "stream",
     "text": [
      "Recall or Sensitivity : 0.6341\n"
     ]
    }
   ],
   "source": [
    "# print recall score\n",
    "\n",
    "recall = TP / float(TP + FN)\n",
    "\n",
    "print('Recall or Sensitivity : {0:0.4f}'.format(recall))"
   ]
  },
  {
   "cell_type": "markdown",
   "id": "57515a11",
   "metadata": {},
   "source": [
    "### Recall identifies the proportion of correctly predicted actual positives."
   ]
  },
  {
   "cell_type": "code",
   "execution_count": 176,
   "id": "b4a7e5ca",
   "metadata": {},
   "outputs": [
    {
     "data": {
      "text/plain": [
       "array([[0.17442623, 0.82557377],\n",
       "       [0.17452002, 0.82547998],\n",
       "       [0.17441437, 0.82558563],\n",
       "       [0.17450048, 0.82549952],\n",
       "       [0.21698388, 0.78301612],\n",
       "       [0.26346906, 0.73653094],\n",
       "       [0.26364717, 0.73635283],\n",
       "       [0.26360806, 0.73639194],\n",
       "       [0.18536132, 0.81463868],\n",
       "       [0.15521357, 0.84478643]])"
      ]
     },
     "execution_count": 176,
     "metadata": {},
     "output_type": "execute_result"
    }
   ],
   "source": [
    "# print the first 10 predicted probabilities of two classes- 0 and 1: 0: Late , 1: On_Time\n",
    "\n",
    "y_pred_prob = logmodel.predict_proba(X_test)[0:10]\n",
    "\n",
    "y_pred_prob"
   ]
  },
  {
   "cell_type": "code",
   "execution_count": 177,
   "id": "499a4011",
   "metadata": {},
   "outputs": [
    {
     "data": {
      "text/html": [
       "<div>\n",
       "<style scoped>\n",
       "    .dataframe tbody tr th:only-of-type {\n",
       "        vertical-align: middle;\n",
       "    }\n",
       "\n",
       "    .dataframe tbody tr th {\n",
       "        vertical-align: top;\n",
       "    }\n",
       "\n",
       "    .dataframe thead th {\n",
       "        text-align: right;\n",
       "    }\n",
       "</style>\n",
       "<table border=\"1\" class=\"dataframe\">\n",
       "  <thead>\n",
       "    <tr style=\"text-align: right;\">\n",
       "      <th></th>\n",
       "      <th>Prob of Late(0)</th>\n",
       "      <th>Prob of On_Time (1)</th>\n",
       "    </tr>\n",
       "  </thead>\n",
       "  <tbody>\n",
       "    <tr>\n",
       "      <th>0</th>\n",
       "      <td>0.174426</td>\n",
       "      <td>0.825574</td>\n",
       "    </tr>\n",
       "    <tr>\n",
       "      <th>1</th>\n",
       "      <td>0.174520</td>\n",
       "      <td>0.825480</td>\n",
       "    </tr>\n",
       "    <tr>\n",
       "      <th>2</th>\n",
       "      <td>0.174414</td>\n",
       "      <td>0.825586</td>\n",
       "    </tr>\n",
       "    <tr>\n",
       "      <th>3</th>\n",
       "      <td>0.174500</td>\n",
       "      <td>0.825500</td>\n",
       "    </tr>\n",
       "    <tr>\n",
       "      <th>4</th>\n",
       "      <td>0.216984</td>\n",
       "      <td>0.783016</td>\n",
       "    </tr>\n",
       "    <tr>\n",
       "      <th>5</th>\n",
       "      <td>0.263469</td>\n",
       "      <td>0.736531</td>\n",
       "    </tr>\n",
       "    <tr>\n",
       "      <th>6</th>\n",
       "      <td>0.263647</td>\n",
       "      <td>0.736353</td>\n",
       "    </tr>\n",
       "    <tr>\n",
       "      <th>7</th>\n",
       "      <td>0.263608</td>\n",
       "      <td>0.736392</td>\n",
       "    </tr>\n",
       "    <tr>\n",
       "      <th>8</th>\n",
       "      <td>0.185361</td>\n",
       "      <td>0.814639</td>\n",
       "    </tr>\n",
       "    <tr>\n",
       "      <th>9</th>\n",
       "      <td>0.155214</td>\n",
       "      <td>0.844786</td>\n",
       "    </tr>\n",
       "  </tbody>\n",
       "</table>\n",
       "</div>"
      ],
      "text/plain": [
       "   Prob of Late(0)  Prob of On_Time (1)\n",
       "0         0.174426             0.825574\n",
       "1         0.174520             0.825480\n",
       "2         0.174414             0.825586\n",
       "3         0.174500             0.825500\n",
       "4         0.216984             0.783016\n",
       "5         0.263469             0.736531\n",
       "6         0.263647             0.736353\n",
       "7         0.263608             0.736392\n",
       "8         0.185361             0.814639\n",
       "9         0.155214             0.844786"
      ]
     },
     "execution_count": 177,
     "metadata": {},
     "output_type": "execute_result"
    }
   ],
   "source": [
    "# store the probabilities in dataframe\n",
    "\n",
    "y_pred_prob_df = pd.DataFrame(data=y_pred_prob, columns=['Prob of Late(0)', 'Prob of On_Time (1)'])\n",
    "\n",
    "y_pred_prob_df"
   ]
  },
  {
   "cell_type": "markdown",
   "id": "5655fe3f",
   "metadata": {},
   "source": [
    "## Classification threshold level = 0.5"
   ]
  },
  {
   "cell_type": "code",
   "execution_count": 178,
   "id": "aa09c08a",
   "metadata": {},
   "outputs": [],
   "source": [
    "# store the predicted probabilities for class 1 - Probability of On_Time\n",
    "\n",
    "y_pred1 = logmodel.predict_proba(X_test)[:, 1]"
   ]
  },
  {
   "cell_type": "code",
   "execution_count": 179,
   "id": "b55fb7bf",
   "metadata": {},
   "outputs": [
    {
     "data": {
      "text/plain": [
       "Text(0, 0.5, 'Frequency')"
      ]
     },
     "execution_count": 179,
     "metadata": {},
     "output_type": "execute_result"
    },
    {
     "data": {
      "image/png": "[encoded data removed]",
      "text/plain": [
       "<Figure size 640x480 with 1 Axes>"
      ]
     },
     "metadata": {},
     "output_type": "display_data"
    }
   ],
   "source": [
    "# plot histogram of predicted probabilities\n",
    "\n",
    "\n",
    "# adjust the font size \n",
    "plt.rcParams['font.size'] = 12\n",
    "\n",
    "\n",
    "# plot histogram with 10 bins\n",
    "plt.hist(y_pred1, bins = 10)\n",
    "\n",
    "\n",
    "# set the title of predicted probabilities\n",
    "plt.title('Histogram of predicted probabilities of On_Time')\n",
    "\n",
    "\n",
    "# set the x-axis limit\n",
    "plt.xlim(0,1)\n",
    "\n",
    "\n",
    "# set the title\n",
    "plt.xlabel('Predicted probabilities of On_Time')\n",
    "plt.ylabel('Frequency')"
   ]
  },
  {
   "cell_type": "markdown",
   "id": "6c74c573",
   "metadata": {},
   "source": [
    "#  ROC - AUC "
   ]
  },
  {
   "cell_type": "code",
   "execution_count": 184,
   "id": "88d22852",
   "metadata": {},
   "outputs": [
    {
     "data": {
      "image/png": "[encoded data removed]",
      "text/plain": [
       "<Figure size 600x400 with 1 Axes>"
      ]
     },
     "metadata": {},
     "output_type": "display_data"
    }
   ],
   "source": [
    "# plot ROC Curve\n",
    "\n",
    "from sklearn.metrics import roc_curve\n",
    "\n",
    "fpr, tpr, thresholds = roc_curve(y_test, y_pred1, pos_label = 'On Time')\n",
    "\n",
    "plt.figure(figsize=(6,4))\n",
    "\n",
    "plt.plot(fpr, tpr, linewidth=2)\n",
    "\n",
    "plt.plot([0,1], [0,1], 'k--' )\n",
    "\n",
    "plt.rcParams['font.size'] = 12\n",
    "\n",
    "plt.title('ROC curve for On_Time classifier')\n",
    "\n",
    "plt.xlabel('False Positive Rate (1 - Specificity)')\n",
    "\n",
    "plt.ylabel('True Positive Rate (Sensitivity)')\n",
    "\n",
    "plt.show()"
   ]
  },
  {
   "cell_type": "code",
   "execution_count": 185,
   "id": "6eeb9fcd",
   "metadata": {},
   "outputs": [
    {
     "name": "stdout",
     "output_type": "stream",
     "text": [
      "ROC AUC : 0.5686\n"
     ]
    }
   ],
   "source": [
    "# compute ROC AUC\n",
    "\n",
    "from sklearn.metrics import roc_auc_score\n",
    "\n",
    "ROC_AUC = roc_auc_score(y_test, y_pred1)\n",
    "\n",
    "print('ROC AUC : {:.4f}'.format(ROC_AUC))"
   ]
  },
  {
   "cell_type": "markdown",
   "id": "ff7fe8d3",
   "metadata": {},
   "source": [
    "### ROC AUC is a single number summary of classifier performance. The higher the value, the better the classifier.\n",
    "\n",
    "### ROC AUC of our model Not high. So, we can conclude that our classifier does a good job in predicting whether it will be Late or On_Time."
   ]
  },
  {
   "cell_type": "markdown",
   "id": "fae28449",
   "metadata": {},
   "source": [
    "# k-Fold Cross Validation"
   ]
  },
  {
   "cell_type": "code",
   "execution_count": 213,
   "id": "58dc39bc",
   "metadata": {},
   "outputs": [
    {
     "name": "stdout",
     "output_type": "stream",
     "text": [
      "Cross-validation scores:[0.79022144 0.78875171 0.78980892 0.78951494 0.78912298]\n"
     ]
    }
   ],
   "source": [
    "# Applying 5-Fold Cross Validation\n",
    "\n",
    "from sklearn.model_selection import cross_val_score\n",
    "\n",
    "scores = cross_val_score(logmodel, X_train, y_train, cv = 5, scoring='accuracy')\n",
    "\n",
    "print('Cross-validation scores:{}'.format(scores))"
   ]
  },
  {
   "cell_type": "code",
   "execution_count": 214,
   "id": "c88ee656",
   "metadata": {},
   "outputs": [
    {
     "name": "stdout",
     "output_type": "stream",
     "text": [
      "Average cross-validation score: 0.7895\n"
     ]
    }
   ],
   "source": [
    "# compute Average cross-validation score\n",
    "\n",
    "print('Average cross-validation score: {:.4f}'.format(scores.mean()))"
   ]
  },
  {
   "cell_type": "markdown",
   "id": "632c5cda",
   "metadata": {},
   "source": [
    "### Our, original model score is found to be 0.79. The average cross-validation score is 0.79. So, we can conclude that cross-validation does not result in performance improvement."
   ]
  },
  {
   "cell_type": "code",
   "execution_count": null,
   "id": "84ce489d",
   "metadata": {},
   "outputs": [],
   "source": []
  }
 ],
 "metadata": {
  "kernelspec": {
   "display_name": "Python 3 (ipykernel)",
   "language": "python",
   "name": "python3"
  },
  "language_info": {
   "codemirror_mode": {
    "name": "ipython",
    "version": 3
   },
   "file_extension": ".py",
   "mimetype": "text/x-python",
   "name": "python",
   "nbconvert_exporter": "python",
   "pygments_lexer": "ipython3",
   "version": "3.9.9"
  }
 },
 "nbformat": 4,
 "nbformat_minor": 5
}
