{
 "cells": [
  {
   "cell_type": "code",
   "execution_count": 1,
   "id": "615773b4",
   "metadata": {},
   "outputs": [],
   "source": [
    "import pandas as pd\n",
    "import numpy as np\n",
    "\n",
    "import matplotlib.pyplot as plt\n",
    "import seaborn as sns"
   ]
  },
  {
   "cell_type": "code",
   "execution_count": 2,
   "id": "4cf56399",
   "metadata": {},
   "outputs": [],
   "source": [
    "NAICS = pd.read_excel('Fairlead Approved Vendor NAICS Codes.xlsx')"
   ]
  },
  {
   "cell_type": "markdown",
   "id": "f7acbb49",
   "metadata": {},
   "source": [
    "## Data Preprocessing"
   ]
  },
  {
   "cell_type": "code",
   "execution_count": 3,
   "id": "3e0249f5",
   "metadata": {},
   "outputs": [
    {
     "name": "stdout",
     "output_type": "stream",
     "text": [
      "<class 'pandas.core.frame.DataFrame'>\n",
      "RangeIndex: 3769 entries, 0 to 3768\n",
      "Data columns (total 9 columns):\n",
      " #   Column          Non-Null Count  Dtype  \n",
      "---  ------          --------------  -----  \n",
      " 0   VEND_APPRVL_CD  3769 non-null   object \n",
      " 1   COMPANY_ID      3769 non-null   int64  \n",
      " 2   VEND_ID         3769 non-null   object \n",
      " 3   VEND_NAME       3769 non-null   object \n",
      " 4   OPP_NAICS_CD    3714 non-null   float64\n",
      " 5   OPP_NAICS_DESC  3769 non-null   object \n",
      " 6   PRIME_NAIC      3769 non-null   object \n",
      " 7   DUNS_NO         3757 non-null   object \n",
      " 8   CAGE_CD         3697 non-null   object \n",
      "dtypes: float64(1), int64(1), object(7)\n",
      "memory usage: 265.1+ KB\n"
     ]
    }
   ],
   "source": [
    "NAICS.info()"
   ]
  },
  {
   "cell_type": "code",
   "execution_count": 4,
   "id": "8605052c",
   "metadata": {},
   "outputs": [
    {
     "data": {
      "text/plain": [
       "VEND_APPRVL_CD     0\n",
       "COMPANY_ID         0\n",
       "VEND_ID            0\n",
       "VEND_NAME          0\n",
       "OPP_NAICS_CD      55\n",
       "OPP_NAICS_DESC     0\n",
       "PRIME_NAIC         0\n",
       "DUNS_NO           12\n",
       "CAGE_CD           72\n",
       "dtype: int64"
      ]
     },
     "execution_count": 4,
     "metadata": {},
     "output_type": "execute_result"
    }
   ],
   "source": [
    "NAICS.isnull().sum()"
   ]
  },
  {
   "cell_type": "code",
   "execution_count": 5,
   "id": "141c0bd6",
   "metadata": {},
   "outputs": [],
   "source": [
    "NAICS.dropna(inplace=True)"
   ]
  },
  {
   "cell_type": "code",
   "execution_count": 6,
   "id": "804bcfb2",
   "metadata": {},
   "outputs": [],
   "source": [
    "NAICS.reset_index(drop=True,inplace=True)"
   ]
  },
  {
   "cell_type": "code",
   "execution_count": 7,
   "id": "7de42761",
   "metadata": {},
   "outputs": [],
   "source": [
    "NAICS['OPP_NAICS_CD'] = NAICS['OPP_NAICS_CD'].astype(str)"
   ]
  },
  {
   "cell_type": "code",
   "execution_count": 8,
   "id": "6bcdbf3e",
   "metadata": {},
   "outputs": [
    {
     "data": {
      "text/plain": [
       "(3667, 9)"
      ]
     },
     "execution_count": 8,
     "metadata": {},
     "output_type": "execute_result"
    }
   ],
   "source": [
    "NAICS.shape"
   ]
  },
  {
   "cell_type": "markdown",
   "id": "aa798dda",
   "metadata": {},
   "source": [
    "## NAICS Decoding Based on NAICS strucrure"
   ]
  },
  {
   "cell_type": "markdown",
   "id": "4f7f4cb4",
   "metadata": {},
   "source": [
    "## 1. Agriculture, Forestry, Fishing and Hunting (11)"
   ]
  },
  {
   "cell_type": "code",
   "execution_count": 9,
   "id": "9478b1d3",
   "metadata": {},
   "outputs": [],
   "source": [
    "Agriculture_Forestry_Fishing_Hunting= NAICS.loc[NAICS['OPP_NAICS_CD'].str.startswith('11')].copy()\n",
    "size_11= Agriculture_Forestry_Fishing_Hunting.shape[0]"
   ]
  },
  {
   "cell_type": "markdown",
   "id": "0cdd7c72",
   "metadata": {},
   "source": [
    "## 2. Mining, Quarrying, and Oil and Gas Extraction (21)"
   ]
  },
  {
   "cell_type": "code",
   "execution_count": 10,
   "id": "707d88d4",
   "metadata": {},
   "outputs": [],
   "source": [
    "Mining_Quarrying_Oil_Gas_Extraction =  NAICS.loc[NAICS['OPP_NAICS_CD'].str.startswith('21')].copy()\n",
    "size_21 = Mining_Quarrying_Oil_Gas_Extraction.shape[0]"
   ]
  },
  {
   "cell_type": "markdown",
   "id": "255de511",
   "metadata": {},
   "source": [
    "## 3. Utilities (22)"
   ]
  },
  {
   "cell_type": "code",
   "execution_count": 11,
   "id": "1c0f5a70",
   "metadata": {},
   "outputs": [],
   "source": [
    "Utilities =  NAICS.loc[NAICS['OPP_NAICS_CD'].str.startswith('22')].copy()\n",
    "size_22 = Utilities.shape[0]"
   ]
  },
  {
   "cell_type": "markdown",
   "id": "aa15ab8c",
   "metadata": {},
   "source": [
    "## 4. Construction (23)"
   ]
  },
  {
   "cell_type": "code",
   "execution_count": 12,
   "id": "61de6dfb",
   "metadata": {},
   "outputs": [],
   "source": [
    "Construction = NAICS.loc[NAICS['OPP_NAICS_CD'].str.startswith('23')].copy()\n",
    "size_23 = Construction.shape[0]"
   ]
  },
  {
   "cell_type": "markdown",
   "id": "195d974f",
   "metadata": {},
   "source": [
    "## 5. Manufacturing (31-33)"
   ]
  },
  {
   "cell_type": "markdown",
   "id": "50e1e665",
   "metadata": {},
   "source": [
    "### 5.1. Manufacturing (31)"
   ]
  },
  {
   "cell_type": "code",
   "execution_count": 13,
   "id": "4f7380b0",
   "metadata": {},
   "outputs": [],
   "source": [
    "Manufacturing_31 = NAICS.loc[NAICS['OPP_NAICS_CD'].str.startswith('31')].copy()\n",
    "size_31 = Manufacturing_31.shape[0]"
   ]
  },
  {
   "cell_type": "markdown",
   "id": "5f763597",
   "metadata": {},
   "source": [
    "### 5.2. Manufacturing (32)"
   ]
  },
  {
   "cell_type": "code",
   "execution_count": 14,
   "id": "3651eb3f",
   "metadata": {},
   "outputs": [],
   "source": [
    "Manufacturing_32 = NAICS.loc[NAICS['OPP_NAICS_CD'].str.startswith('32')].copy()\n",
    "size_32 = Manufacturing_32.shape[0]"
   ]
  },
  {
   "cell_type": "markdown",
   "id": "8e1c62ae",
   "metadata": {},
   "source": [
    "### 5.3. Manufacturing (33)"
   ]
  },
  {
   "cell_type": "code",
   "execution_count": 15,
   "id": "8bcf6fb2",
   "metadata": {},
   "outputs": [],
   "source": [
    "Manufacturing_33 = NAICS.loc[NAICS['OPP_NAICS_CD'].str.startswith('33')].copy()\n",
    "size_33 = Manufacturing_33.shape[0]"
   ]
  },
  {
   "cell_type": "markdown",
   "id": "569903ae",
   "metadata": {},
   "source": [
    "## 6. Wholesale Trade (42)"
   ]
  },
  {
   "cell_type": "code",
   "execution_count": 16,
   "id": "ae8be692",
   "metadata": {},
   "outputs": [],
   "source": [
    "Wholesale_Trade = NAICS.loc[NAICS['OPP_NAICS_CD'].str.startswith('42')].copy()\n",
    "size_42 = Wholesale_Trade.shape[0]"
   ]
  },
  {
   "cell_type": "markdown",
   "id": "35a95c30",
   "metadata": {},
   "source": [
    "## 7. Retail Trade (44-45)"
   ]
  },
  {
   "cell_type": "markdown",
   "id": "39a1472b",
   "metadata": {},
   "source": [
    "### 7.1. Retail Trade (44)"
   ]
  },
  {
   "cell_type": "code",
   "execution_count": 17,
   "id": "0b47a6d1",
   "metadata": {},
   "outputs": [],
   "source": [
    "Retail_Trade_44 = NAICS.loc[NAICS['OPP_NAICS_CD'].str.startswith('44')].copy()\n",
    "size_44 = Retail_Trade_44.shape[0]"
   ]
  },
  {
   "cell_type": "markdown",
   "id": "da8ca243",
   "metadata": {},
   "source": [
    "### 7.2. Retail Trade (45)"
   ]
  },
  {
   "cell_type": "code",
   "execution_count": 18,
   "id": "60ba177b",
   "metadata": {},
   "outputs": [],
   "source": [
    "Retail_Trade_45 = NAICS.loc[NAICS['OPP_NAICS_CD'].str.startswith('45')].copy()\n",
    "size_45 = Retail_Trade_45.shape[0]"
   ]
  },
  {
   "cell_type": "markdown",
   "id": "36569d91",
   "metadata": {},
   "source": [
    "## 8. Transportation and Warehousing (48-49)"
   ]
  },
  {
   "cell_type": "markdown",
   "id": "998de48e",
   "metadata": {},
   "source": [
    "### 8.1. Transportation and Warehousing (48)"
   ]
  },
  {
   "cell_type": "code",
   "execution_count": 19,
   "id": "df0cdb3f",
   "metadata": {},
   "outputs": [],
   "source": [
    "Transportation_Warehousing_48 = NAICS.loc[NAICS['OPP_NAICS_CD'].str.startswith('48')].copy()\n",
    "size_48 = Transportation_Warehousing_48.shape[0]"
   ]
  },
  {
   "cell_type": "markdown",
   "id": "46dc237a",
   "metadata": {},
   "source": [
    "### 8.2. Transportation and Warehousing (49)"
   ]
  },
  {
   "cell_type": "code",
   "execution_count": 20,
   "id": "a9bbe0c4",
   "metadata": {},
   "outputs": [],
   "source": [
    "Transportation_Warehousing_49 = NAICS.loc[NAICS['OPP_NAICS_CD'].str.startswith('49')].copy()\n",
    "size_49 = Transportation_Warehousing_49.shape[0]"
   ]
  },
  {
   "cell_type": "markdown",
   "id": "590dea6e",
   "metadata": {},
   "source": [
    "## 9. Information (51)"
   ]
  },
  {
   "cell_type": "code",
   "execution_count": 21,
   "id": "519ed7b4",
   "metadata": {},
   "outputs": [],
   "source": [
    "Information = NAICS.loc[NAICS['OPP_NAICS_CD'].str.startswith('51')].copy()\n",
    "size_51 = Information.shape[0]"
   ]
  },
  {
   "cell_type": "markdown",
   "id": "9e24c022",
   "metadata": {},
   "source": [
    "## 10. Finance and Insurance (52)"
   ]
  },
  {
   "cell_type": "code",
   "execution_count": 22,
   "id": "bdeb8eca",
   "metadata": {},
   "outputs": [],
   "source": [
    "Finance_Insurance = NAICS.loc[NAICS['OPP_NAICS_CD'].str.startswith('52')].copy()\n",
    "size_52 = Finance_Insurance.shape[0]"
   ]
  },
  {
   "cell_type": "markdown",
   "id": "19d6f01c",
   "metadata": {},
   "source": [
    "## 11. Real Estate and Rental and Leasing (53)"
   ]
  },
  {
   "cell_type": "code",
   "execution_count": 23,
   "id": "43b005e3",
   "metadata": {},
   "outputs": [],
   "source": [
    "Real_Estate_Rental_Leasing = NAICS.loc[NAICS['OPP_NAICS_CD'].str.startswith('53')].copy()\n",
    "size_53 = Real_Estate_Rental_Leasing.shape[0]"
   ]
  },
  {
   "cell_type": "markdown",
   "id": "4076ed33",
   "metadata": {},
   "source": [
    "## 12. Professional, Scientific, and Technical Services (54)"
   ]
  },
  {
   "cell_type": "code",
   "execution_count": 24,
   "id": "eaf4a21a",
   "metadata": {},
   "outputs": [],
   "source": [
    "Professional_Scientific_Technical_Services =  NAICS.loc[NAICS['OPP_NAICS_CD'].str.startswith('54')].copy()\n",
    "size_54 = Professional_Scientific_Technical_Services.shape[0]"
   ]
  },
  {
   "cell_type": "markdown",
   "id": "5906c758",
   "metadata": {},
   "source": [
    "## 13. Management of Companies and Enterprises (55)"
   ]
  },
  {
   "cell_type": "code",
   "execution_count": 25,
   "id": "8e7079bc",
   "metadata": {},
   "outputs": [],
   "source": [
    "Management_Companies_Enterprises = NAICS.loc[NAICS['OPP_NAICS_CD'].str.startswith('55')].copy()\n",
    "size_55 = Management_Companies_Enterprises.shape[0]"
   ]
  },
  {
   "cell_type": "markdown",
   "id": "8855bc66",
   "metadata": {},
   "source": [
    "## 14. Administrative and Support and Waste Management and Remediation Services (56)"
   ]
  },
  {
   "cell_type": "code",
   "execution_count": 26,
   "id": "67146dad",
   "metadata": {},
   "outputs": [],
   "source": [
    "Administrative_Support_Waste_Management_Remediation_Services = NAICS.loc[NAICS['OPP_NAICS_CD'].str.startswith('56')].copy()\n",
    "size_56 = Administrative_Support_Waste_Management_Remediation_Services.shape[0]"
   ]
  },
  {
   "cell_type": "markdown",
   "id": "3074d651",
   "metadata": {},
   "source": [
    "## 15. Educational Services (61)"
   ]
  },
  {
   "cell_type": "code",
   "execution_count": 27,
   "id": "288b98d2",
   "metadata": {},
   "outputs": [],
   "source": [
    "Educational_Services = NAICS.loc[NAICS['OPP_NAICS_CD'].str.startswith('61')].copy()\n",
    "size_61 = Educational_Services.shape[0]"
   ]
  },
  {
   "cell_type": "markdown",
   "id": "faf19eed",
   "metadata": {},
   "source": [
    "## 16. Health Care and Social Assistance (62)"
   ]
  },
  {
   "cell_type": "code",
   "execution_count": 28,
   "id": "6a87b5f8",
   "metadata": {},
   "outputs": [],
   "source": [
    "HealthCare_Social_Assistance =  NAICS.loc[NAICS['OPP_NAICS_CD'].str.startswith('62')].copy()\n",
    "size_62 = HealthCare_Social_Assistance.shape[0]"
   ]
  },
  {
   "cell_type": "markdown",
   "id": "bd47aabe",
   "metadata": {},
   "source": [
    "## 17. Arts, Entertainment, and Recreation (71)"
   ]
  },
  {
   "cell_type": "code",
   "execution_count": 29,
   "id": "3cf5202c",
   "metadata": {},
   "outputs": [],
   "source": [
    "Arts_Entertainment_Recreation = NAICS.loc[NAICS['OPP_NAICS_CD'].str.startswith('71')].copy()\n",
    "size_71 = Arts_Entertainment_Recreation.shape[0]"
   ]
  },
  {
   "cell_type": "markdown",
   "id": "bfc0d5fb",
   "metadata": {},
   "source": [
    "## 18. Accommodation and Food Services (72)"
   ]
  },
  {
   "cell_type": "code",
   "execution_count": 30,
   "id": "fbd7a050",
   "metadata": {},
   "outputs": [],
   "source": [
    "Accommodation_Food_Services = NAICS.loc[NAICS['OPP_NAICS_CD'].str.startswith('72')].copy()\n",
    "size_72 = Accommodation_Food_Services.shape[0]"
   ]
  },
  {
   "cell_type": "markdown",
   "id": "a8832901",
   "metadata": {},
   "source": [
    "## 19. Other Services (except Public Administration) (81)"
   ]
  },
  {
   "cell_type": "code",
   "execution_count": 31,
   "id": "7d18133e",
   "metadata": {},
   "outputs": [],
   "source": [
    "Other_Services = NAICS.loc[NAICS['OPP_NAICS_CD'].str.startswith('81')].copy()\n",
    "size_81 = Other_Services.shape[0]"
   ]
  },
  {
   "cell_type": "markdown",
   "id": "e34c3590",
   "metadata": {},
   "source": [
    "## 20. Public Administration (92)"
   ]
  },
  {
   "cell_type": "code",
   "execution_count": 32,
   "id": "80d4d66d",
   "metadata": {},
   "outputs": [],
   "source": [
    "Public_Administration = NAICS.loc[NAICS['OPP_NAICS_CD'].str.startswith('92')].copy()\n",
    "size_92 = Public_Administration.shape[0]"
   ]
  },
  {
   "cell_type": "code",
   "execution_count": 33,
   "id": "787738e2",
   "metadata": {},
   "outputs": [
    {
     "data": {
      "text/plain": [
       "79"
      ]
     },
     "execution_count": 33,
     "metadata": {},
     "output_type": "execute_result"
    }
   ],
   "source": [
    "size_53"
   ]
  },
  {
   "cell_type": "code",
   "execution_count": 34,
   "id": "472a7d28",
   "metadata": {},
   "outputs": [],
   "source": [
    "data = {'Code': ['11', '21', '22', '23','31','32','33','42','44','45','48','49','51','52','53','54','55','56','61','62','71','72',\n",
    "                '92','81'],\n",
    "        '# of Commodities': [size_11, size_21, size_22, size_23,size_31,size_32,size_33,size_42,size_44,size_45,size_48,size_49,size_51,size_52,size_53,size_54,size_55,size_56,size_61,size_62,size_71,size_72,size_92,size_81]}\n",
    "df = pd.DataFrame(data,index=['Agriculture_Forestry_Fishing_Hunting', 'Mining_Quarrying_Oil_Gas_Extraction', 'Utilities','Construction',\n",
    "    'Manufacturing_31','Manufacturing_32','Manufacturing_33','Wholesale_Trade','Retail_Trade_44','Retail_Trade_45',\n",
    "    'Transportation_Warehousing_48','Transportation_Warehousing_49','Information','Finance_Insurance','Real_Estate_Rental_Leasing',\n",
    "    'Professional_Scientific_Technical_Services' ,'Management_Companies_Enterprises','Administrative_Support_Waste_Management_Remediation_Services',\n",
    "    'Educational_Services','HealthCare_Social_Assistance','Arts_Entertainment_Recreation','Accommodation_Food_Services','Public_Administration','Other_Services'])"
   ]
  },
  {
   "cell_type": "code",
   "execution_count": 35,
   "id": "33b60e3b",
   "metadata": {},
   "outputs": [
    {
     "data": {
      "text/html": [
       "<div>\n",
       "<style scoped>\n",
       "    .dataframe tbody tr th:only-of-type {\n",
       "        vertical-align: middle;\n",
       "    }\n",
       "\n",
       "    .dataframe tbody tr th {\n",
       "        vertical-align: top;\n",
       "    }\n",
       "\n",
       "    .dataframe thead th {\n",
       "        text-align: right;\n",
       "    }\n",
       "</style>\n",
       "<table border=\"1\" class=\"dataframe\">\n",
       "  <thead>\n",
       "    <tr style=\"text-align: right;\">\n",
       "      <th></th>\n",
       "      <th>Code</th>\n",
       "      <th># of Commodities</th>\n",
       "    </tr>\n",
       "  </thead>\n",
       "  <tbody>\n",
       "    <tr>\n",
       "      <th>Agriculture_Forestry_Fishing_Hunting</th>\n",
       "      <td>11</td>\n",
       "      <td>2</td>\n",
       "    </tr>\n",
       "    <tr>\n",
       "      <th>Mining_Quarrying_Oil_Gas_Extraction</th>\n",
       "      <td>21</td>\n",
       "      <td>4</td>\n",
       "    </tr>\n",
       "    <tr>\n",
       "      <th>Utilities</th>\n",
       "      <td>22</td>\n",
       "      <td>23</td>\n",
       "    </tr>\n",
       "    <tr>\n",
       "      <th>Construction</th>\n",
       "      <td>23</td>\n",
       "      <td>194</td>\n",
       "    </tr>\n",
       "    <tr>\n",
       "      <th>Manufacturing_31</th>\n",
       "      <td>31</td>\n",
       "      <td>58</td>\n",
       "    </tr>\n",
       "  </tbody>\n",
       "</table>\n",
       "</div>"
      ],
      "text/plain": [
       "                                     Code  # of Commodities\n",
       "Agriculture_Forestry_Fishing_Hunting   11                 2\n",
       "Mining_Quarrying_Oil_Gas_Extraction    21                 4\n",
       "Utilities                              22                23\n",
       "Construction                           23               194\n",
       "Manufacturing_31                       31                58"
      ]
     },
     "execution_count": 35,
     "metadata": {},
     "output_type": "execute_result"
    }
   ],
   "source": [
    "df.head()"
   ]
  },
  {
   "cell_type": "markdown",
   "id": "8691329c",
   "metadata": {},
   "source": [
    "## Frequency of Each code in NAICS data"
   ]
  },
  {
   "cell_type": "code",
   "execution_count": 36,
   "id": "1e023744",
   "metadata": {},
   "outputs": [
    {
     "data": {
      "text/html": [
       "<style type=\"text/css\">\n",
       "#T_a26ef td {\n",
       "  text-align: center;\n",
       "}\n",
       "#T_a26ef .col_heading {\n",
       "  text-align: right;\n",
       "  width: 150px;\n",
       "}\n",
       "#T_a26ef .row_heading {\n",
       "  text-align: left;\n",
       "}\n",
       "</style>\n",
       "<table id=\"T_a26ef\">\n",
       "  <thead>\n",
       "    <tr>\n",
       "      <th class=\"blank level0\" >&nbsp;</th>\n",
       "      <th id=\"T_a26ef_level0_col0\" class=\"col_heading level0 col0\" >Code</th>\n",
       "      <th id=\"T_a26ef_level0_col1\" class=\"col_heading level0 col1\" ># of Commodities</th>\n",
       "    </tr>\n",
       "  </thead>\n",
       "  <tbody>\n",
       "    <tr>\n",
       "      <th id=\"T_a26ef_level0_row0\" class=\"row_heading level0 row0\" >Agriculture_Forestry_Fishing_Hunting</th>\n",
       "      <td id=\"T_a26ef_row0_col0\" class=\"data row0 col0\" >11</td>\n",
       "      <td id=\"T_a26ef_row0_col1\" class=\"data row0 col1\" >2</td>\n",
       "    </tr>\n",
       "    <tr>\n",
       "      <th id=\"T_a26ef_level0_row1\" class=\"row_heading level0 row1\" >Mining_Quarrying_Oil_Gas_Extraction</th>\n",
       "      <td id=\"T_a26ef_row1_col0\" class=\"data row1 col0\" >21</td>\n",
       "      <td id=\"T_a26ef_row1_col1\" class=\"data row1 col1\" >4</td>\n",
       "    </tr>\n",
       "    <tr>\n",
       "      <th id=\"T_a26ef_level0_row2\" class=\"row_heading level0 row2\" >Utilities</th>\n",
       "      <td id=\"T_a26ef_row2_col0\" class=\"data row2 col0\" >22</td>\n",
       "      <td id=\"T_a26ef_row2_col1\" class=\"data row2 col1\" >23</td>\n",
       "    </tr>\n",
       "    <tr>\n",
       "      <th id=\"T_a26ef_level0_row3\" class=\"row_heading level0 row3\" >Construction</th>\n",
       "      <td id=\"T_a26ef_row3_col0\" class=\"data row3 col0\" >23</td>\n",
       "      <td id=\"T_a26ef_row3_col1\" class=\"data row3 col1\" >194</td>\n",
       "    </tr>\n",
       "    <tr>\n",
       "      <th id=\"T_a26ef_level0_row4\" class=\"row_heading level0 row4\" >Manufacturing_31</th>\n",
       "      <td id=\"T_a26ef_row4_col0\" class=\"data row4 col0\" >31</td>\n",
       "      <td id=\"T_a26ef_row4_col1\" class=\"data row4 col1\" >58</td>\n",
       "    </tr>\n",
       "    <tr>\n",
       "      <th id=\"T_a26ef_level0_row5\" class=\"row_heading level0 row5\" >Manufacturing_32</th>\n",
       "      <td id=\"T_a26ef_row5_col0\" class=\"data row5 col0\" >32</td>\n",
       "      <td id=\"T_a26ef_row5_col1\" class=\"data row5 col1\" >171</td>\n",
       "    </tr>\n",
       "    <tr>\n",
       "      <th id=\"T_a26ef_level0_row6\" class=\"row_heading level0 row6\" >Manufacturing_33</th>\n",
       "      <td id=\"T_a26ef_row6_col0\" class=\"data row6 col0\" >33</td>\n",
       "      <td id=\"T_a26ef_row6_col1\" class=\"data row6 col1\" >1642</td>\n",
       "    </tr>\n",
       "    <tr>\n",
       "      <th id=\"T_a26ef_level0_row7\" class=\"row_heading level0 row7\" >Wholesale_Trade</th>\n",
       "      <td id=\"T_a26ef_row7_col0\" class=\"data row7 col0\" >42</td>\n",
       "      <td id=\"T_a26ef_row7_col1\" class=\"data row7 col1\" >651</td>\n",
       "    </tr>\n",
       "    <tr>\n",
       "      <th id=\"T_a26ef_level0_row8\" class=\"row_heading level0 row8\" >Retail_Trade_44</th>\n",
       "      <td id=\"T_a26ef_row8_col0\" class=\"data row8 col0\" >44</td>\n",
       "      <td id=\"T_a26ef_row8_col1\" class=\"data row8 col1\" >60</td>\n",
       "    </tr>\n",
       "    <tr>\n",
       "      <th id=\"T_a26ef_level0_row9\" class=\"row_heading level0 row9\" >Retail_Trade_45</th>\n",
       "      <td id=\"T_a26ef_row9_col0\" class=\"data row9 col0\" >45</td>\n",
       "      <td id=\"T_a26ef_row9_col1\" class=\"data row9 col1\" >22</td>\n",
       "    </tr>\n",
       "    <tr>\n",
       "      <th id=\"T_a26ef_level0_row10\" class=\"row_heading level0 row10\" >Transportation_Warehousing_48</th>\n",
       "      <td id=\"T_a26ef_row10_col0\" class=\"data row10 col0\" >48</td>\n",
       "      <td id=\"T_a26ef_row10_col1\" class=\"data row10 col1\" >90</td>\n",
       "    </tr>\n",
       "    <tr>\n",
       "      <th id=\"T_a26ef_level0_row11\" class=\"row_heading level0 row11\" >Transportation_Warehousing_49</th>\n",
       "      <td id=\"T_a26ef_row11_col0\" class=\"data row11 col0\" >49</td>\n",
       "      <td id=\"T_a26ef_row11_col1\" class=\"data row11 col1\" >17</td>\n",
       "    </tr>\n",
       "    <tr>\n",
       "      <th id=\"T_a26ef_level0_row12\" class=\"row_heading level0 row12\" >Information</th>\n",
       "      <td id=\"T_a26ef_row12_col0\" class=\"data row12 col0\" >51</td>\n",
       "      <td id=\"T_a26ef_row12_col1\" class=\"data row12 col1\" >23</td>\n",
       "    </tr>\n",
       "    <tr>\n",
       "      <th id=\"T_a26ef_level0_row13\" class=\"row_heading level0 row13\" >Finance_Insurance</th>\n",
       "      <td id=\"T_a26ef_row13_col0\" class=\"data row13 col0\" >52</td>\n",
       "      <td id=\"T_a26ef_row13_col1\" class=\"data row13 col1\" >2</td>\n",
       "    </tr>\n",
       "    <tr>\n",
       "      <th id=\"T_a26ef_level0_row14\" class=\"row_heading level0 row14\" >Real_Estate_Rental_Leasing</th>\n",
       "      <td id=\"T_a26ef_row14_col0\" class=\"data row14 col0\" >53</td>\n",
       "      <td id=\"T_a26ef_row14_col1\" class=\"data row14 col1\" >79</td>\n",
       "    </tr>\n",
       "    <tr>\n",
       "      <th id=\"T_a26ef_level0_row15\" class=\"row_heading level0 row15\" >Professional_Scientific_Technical_Services</th>\n",
       "      <td id=\"T_a26ef_row15_col0\" class=\"data row15 col0\" >54</td>\n",
       "      <td id=\"T_a26ef_row15_col1\" class=\"data row15 col1\" >315</td>\n",
       "    </tr>\n",
       "    <tr>\n",
       "      <th id=\"T_a26ef_level0_row16\" class=\"row_heading level0 row16\" >Management_Companies_Enterprises</th>\n",
       "      <td id=\"T_a26ef_row16_col0\" class=\"data row16 col0\" >55</td>\n",
       "      <td id=\"T_a26ef_row16_col1\" class=\"data row16 col1\" >1</td>\n",
       "    </tr>\n",
       "    <tr>\n",
       "      <th id=\"T_a26ef_level0_row17\" class=\"row_heading level0 row17\" >Administrative_Support_Waste_Management_Remediation_Services</th>\n",
       "      <td id=\"T_a26ef_row17_col0\" class=\"data row17 col0\" >56</td>\n",
       "      <td id=\"T_a26ef_row17_col1\" class=\"data row17 col1\" >114</td>\n",
       "    </tr>\n",
       "    <tr>\n",
       "      <th id=\"T_a26ef_level0_row18\" class=\"row_heading level0 row18\" >Educational_Services</th>\n",
       "      <td id=\"T_a26ef_row18_col0\" class=\"data row18 col0\" >61</td>\n",
       "      <td id=\"T_a26ef_row18_col1\" class=\"data row18 col1\" >24</td>\n",
       "    </tr>\n",
       "    <tr>\n",
       "      <th id=\"T_a26ef_level0_row19\" class=\"row_heading level0 row19\" >HealthCare_Social_Assistance</th>\n",
       "      <td id=\"T_a26ef_row19_col0\" class=\"data row19 col0\" >62</td>\n",
       "      <td id=\"T_a26ef_row19_col1\" class=\"data row19 col1\" >9</td>\n",
       "    </tr>\n",
       "    <tr>\n",
       "      <th id=\"T_a26ef_level0_row20\" class=\"row_heading level0 row20\" >Arts_Entertainment_Recreation</th>\n",
       "      <td id=\"T_a26ef_row20_col0\" class=\"data row20 col0\" >71</td>\n",
       "      <td id=\"T_a26ef_row20_col1\" class=\"data row20 col1\" >0</td>\n",
       "    </tr>\n",
       "    <tr>\n",
       "      <th id=\"T_a26ef_level0_row21\" class=\"row_heading level0 row21\" >Accommodation_Food_Services</th>\n",
       "      <td id=\"T_a26ef_row21_col0\" class=\"data row21 col0\" >72</td>\n",
       "      <td id=\"T_a26ef_row21_col1\" class=\"data row21 col1\" >0</td>\n",
       "    </tr>\n",
       "    <tr>\n",
       "      <th id=\"T_a26ef_level0_row22\" class=\"row_heading level0 row22\" >Public_Administration</th>\n",
       "      <td id=\"T_a26ef_row22_col0\" class=\"data row22 col0\" >92</td>\n",
       "      <td id=\"T_a26ef_row22_col1\" class=\"data row22 col1\" >6</td>\n",
       "    </tr>\n",
       "    <tr>\n",
       "      <th id=\"T_a26ef_level0_row23\" class=\"row_heading level0 row23\" >Other_Services</th>\n",
       "      <td id=\"T_a26ef_row23_col0\" class=\"data row23 col0\" >81</td>\n",
       "      <td id=\"T_a26ef_row23_col1\" class=\"data row23 col1\" >160</td>\n",
       "    </tr>\n",
       "  </tbody>\n",
       "</table>\n"
      ],
      "text/plain": [
       "<pandas.io.formats.style.Styler at 0x261268c4d30>"
      ]
     },
     "execution_count": 36,
     "metadata": {},
     "output_type": "execute_result"
    }
   ],
   "source": [
    "df.style.format({'Data 1': '{:,.1f}', 'More Data': '{:,.3f}'})\\\n",
    "        .set_table_styles([{'selector': 'td', 'props': [('text-align', 'center')]},\n",
    "                           {'selector': '.col_heading', 'props': [('text-align', 'right'),\n",
    "                                                            ('width', '150px')]},\n",
    "                           {'selector': '.row_heading', 'props': [('text-align', 'left')]}])"
   ]
  },
  {
   "cell_type": "markdown",
   "id": "a286af0c",
   "metadata": {},
   "source": [
    "## General Dynamic Code, Main Code based on extraction by i digit number"
   ]
  },
  {
   "cell_type": "code",
   "execution_count": 37,
   "id": "2625724a",
   "metadata": {},
   "outputs": [],
   "source": [
    "i = 3\n",
    "def Main_CD(CD):\n",
    "    return int(CD[:i])"
   ]
  },
  {
   "cell_type": "code",
   "execution_count": 38,
   "id": "c4fa3cdd",
   "metadata": {},
   "outputs": [],
   "source": [
    "NAICS['Main_CD'] = NAICS.apply(lambda row:Main_CD (row['OPP_NAICS_CD']),axis=1)"
   ]
  },
  {
   "cell_type": "code",
   "execution_count": 39,
   "id": "545d6d01",
   "metadata": {},
   "outputs": [
    {
     "data": {
      "text/plain": [
       "65"
      ]
     },
     "execution_count": 39,
     "metadata": {},
     "output_type": "execute_result"
    }
   ],
   "source": [
    "NAICS['Main_CD'].nunique()"
   ]
  },
  {
   "cell_type": "code",
   "execution_count": 40,
   "id": "4a6240a4",
   "metadata": {},
   "outputs": [
    {
     "data": {
      "image/png": "[encoded data removed]",
      "text/plain": [
       "<Figure size 2000x500 with 1 Axes>"
      ]
     },
     "metadata": {},
     "output_type": "display_data"
    }
   ],
   "source": [
    "fig = plt.figure(figsize =(20, 5))\n",
    "\n",
    "sns.countplot(x='Main_CD', data= NAICS, palette='rainbow')\n",
    "\n",
    "plt.title(\"The Frequency of Main codess for Commodites\",fontweight ='bold',fontsize=20)\n",
    "# plt.ylim(100,1700)\n",
    "plt.show()"
   ]
  },
  {
   "cell_type": "code",
   "execution_count": 41,
   "id": "c10000dc",
   "metadata": {},
   "outputs": [
    {
     "data": {
      "image/png": "[encoded data removed]",
      "text/plain": [
       "<Figure size 1000x500 with 1 Axes>"
      ]
     },
     "metadata": {},
     "output_type": "display_data"
    }
   ],
   "source": [
    "fig = plt.figure(figsize =(10, 5))\n",
    "\n",
    "sns.countplot(x='Main_CD', data= NAICS, palette='rainbow', order=NAICS.Main_CD.value_counts().iloc[:10].index)\n",
    "\n",
    "plt.title(\"The Frequency of Main codess for Top 10 Commodites\",fontweight ='bold',fontsize=10)\n",
    "plt.show()"
   ]
  },
  {
   "cell_type": "code",
   "execution_count": 42,
   "id": "62305473",
   "metadata": {},
   "outputs": [],
   "source": [
    "df = pd.DataFrame(NAICS['Main_CD'].value_counts().head(10)).reset_index()\n",
    "df.columns = ['Main_CD', 'Frequency']"
   ]
  },
  {
   "cell_type": "code",
   "execution_count": 43,
   "id": "3636bb30",
   "metadata": {},
   "outputs": [
    {
     "data": {
      "text/html": [
       "<div>\n",
       "<style scoped>\n",
       "    .dataframe tbody tr th:only-of-type {\n",
       "        vertical-align: middle;\n",
       "    }\n",
       "\n",
       "    .dataframe tbody tr th {\n",
       "        vertical-align: top;\n",
       "    }\n",
       "\n",
       "    .dataframe thead th {\n",
       "        text-align: right;\n",
       "    }\n",
       "</style>\n",
       "<table border=\"1\" class=\"dataframe\">\n",
       "  <thead>\n",
       "    <tr style=\"text-align: right;\">\n",
       "      <th></th>\n",
       "      <th>Main_CD</th>\n",
       "      <th>Frequency</th>\n",
       "    </tr>\n",
       "  </thead>\n",
       "  <tbody>\n",
       "    <tr>\n",
       "      <th>0</th>\n",
       "      <td>423</td>\n",
       "      <td>574</td>\n",
       "    </tr>\n",
       "    <tr>\n",
       "      <th>1</th>\n",
       "      <td>332</td>\n",
       "      <td>448</td>\n",
       "    </tr>\n",
       "    <tr>\n",
       "      <th>2</th>\n",
       "      <td>541</td>\n",
       "      <td>315</td>\n",
       "    </tr>\n",
       "    <tr>\n",
       "      <th>3</th>\n",
       "      <td>334</td>\n",
       "      <td>315</td>\n",
       "    </tr>\n",
       "    <tr>\n",
       "      <th>4</th>\n",
       "      <td>336</td>\n",
       "      <td>282</td>\n",
       "    </tr>\n",
       "    <tr>\n",
       "      <th>5</th>\n",
       "      <td>333</td>\n",
       "      <td>264</td>\n",
       "    </tr>\n",
       "    <tr>\n",
       "      <th>6</th>\n",
       "      <td>335</td>\n",
       "      <td>204</td>\n",
       "    </tr>\n",
       "    <tr>\n",
       "      <th>7</th>\n",
       "      <td>811</td>\n",
       "      <td>155</td>\n",
       "    </tr>\n",
       "    <tr>\n",
       "      <th>8</th>\n",
       "      <td>238</td>\n",
       "      <td>154</td>\n",
       "    </tr>\n",
       "    <tr>\n",
       "      <th>9</th>\n",
       "      <td>339</td>\n",
       "      <td>80</td>\n",
       "    </tr>\n",
       "  </tbody>\n",
       "</table>\n",
       "</div>"
      ],
      "text/plain": [
       "   Main_CD  Frequency\n",
       "0      423        574\n",
       "1      332        448\n",
       "2      541        315\n",
       "3      334        315\n",
       "4      336        282\n",
       "5      333        264\n",
       "6      335        204\n",
       "7      811        155\n",
       "8      238        154\n",
       "9      339         80"
      ]
     },
     "execution_count": 43,
     "metadata": {},
     "output_type": "execute_result"
    }
   ],
   "source": [
    "df"
   ]
  },
  {
   "cell_type": "code",
   "execution_count": null,
   "id": "3cbd68d3",
   "metadata": {},
   "outputs": [],
   "source": []
  }
 ],
 "metadata": {
  "kernelspec": {
   "display_name": "Python 3 (ipykernel)",
   "language": "python",
   "name": "python3"
  },
  "language_info": {
   "codemirror_mode": {
    "name": "ipython",
    "version": 3
   },
   "file_extension": ".py",
   "mimetype": "text/x-python",
   "name": "python",
   "nbconvert_exporter": "python",
   "pygments_lexer": "ipython3",
   "version": "3.9.9"
  }
 },
 "nbformat": 4,
 "nbformat_minor": 5
}
