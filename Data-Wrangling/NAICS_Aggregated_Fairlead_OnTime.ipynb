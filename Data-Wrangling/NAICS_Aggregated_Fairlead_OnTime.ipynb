{
 "cells": [
  {
   "cell_type": "code",
   "execution_count": 1,
   "id": "615773b4",
   "metadata": {},
   "outputs": [],
   "source": [
    "import pandas as pd\n",
    "import numpy as np\n",
    "\n",
    "import matplotlib.pyplot as plt\n",
    "import seaborn as sns"
   ]
  },
  {
   "cell_type": "code",
   "execution_count": 2,
   "id": "4cf56399",
   "metadata": {},
   "outputs": [],
   "source": [
    "NAICS = pd.read_excel('Fairlead Approved Vendor NAICS Codes.xlsx')"
   ]
  },
  {
   "cell_type": "markdown",
   "id": "f7acbb49",
   "metadata": {},
   "source": [
    "## Data Preprocessing"
   ]
  },
  {
   "cell_type": "code",
   "execution_count": 3,
   "id": "3e0249f5",
   "metadata": {},
   "outputs": [
    {
     "name": "stdout",
     "output_type": "stream",
     "text": [
      "<class 'pandas.core.frame.DataFrame'>\n",
      "RangeIndex: 3769 entries, 0 to 3768\n",
      "Data columns (total 9 columns):\n",
      " #   Column          Non-Null Count  Dtype  \n",
      "---  ------          --------------  -----  \n",
      " 0   VEND_APPRVL_CD  3769 non-null   object \n",
      " 1   COMPANY_ID      3769 non-null   int64  \n",
      " 2   VEND_ID         3769 non-null   object \n",
      " 3   VEND_NAME       3769 non-null   object \n",
      " 4   OPP_NAICS_CD    3714 non-null   float64\n",
      " 5   OPP_NAICS_DESC  3769 non-null   object \n",
      " 6   PRIME_NAIC      3769 non-null   object \n",
      " 7   DUNS_NO         3757 non-null   object \n",
      " 8   CAGE_CD         3697 non-null   object \n",
      "dtypes: float64(1), int64(1), object(7)\n",
      "memory usage: 265.1+ KB\n"
     ]
    }
   ],
   "source": [
    "NAICS.info()"
   ]
  },
  {
   "cell_type": "code",
   "execution_count": 4,
   "id": "8605052c",
   "metadata": {},
   "outputs": [
    {
     "data": {
      "text/plain": [
       "VEND_APPRVL_CD     0\n",
       "COMPANY_ID         0\n",
       "VEND_ID            0\n",
       "VEND_NAME          0\n",
       "OPP_NAICS_CD      55\n",
       "OPP_NAICS_DESC     0\n",
       "PRIME_NAIC         0\n",
       "DUNS_NO           12\n",
       "CAGE_CD           72\n",
       "dtype: int64"
      ]
     },
     "execution_count": 4,
     "metadata": {},
     "output_type": "execute_result"
    }
   ],
   "source": [
    "NAICS.isnull().sum()"
   ]
  },
  {
   "cell_type": "code",
   "execution_count": 5,
   "id": "141c0bd6",
   "metadata": {},
   "outputs": [],
   "source": [
    "NAICS.dropna(inplace=True)"
   ]
  },
  {
   "cell_type": "code",
   "execution_count": 6,
   "id": "804bcfb2",
   "metadata": {},
   "outputs": [],
   "source": [
    "NAICS.reset_index(drop=True,inplace=True)"
   ]
  },
  {
   "cell_type": "code",
   "execution_count": 7,
   "id": "7de42761",
   "metadata": {},
   "outputs": [],
   "source": [
    "NAICS['OPP_NAICS_CD'] = NAICS['OPP_NAICS_CD'].astype(str)"
   ]
  },
  {
   "cell_type": "code",
   "execution_count": 8,
   "id": "6bcdbf3e",
   "metadata": {},
   "outputs": [
    {
     "data": {
      "text/plain": [
       "(3667, 9)"
      ]
     },
     "execution_count": 8,
     "metadata": {},
     "output_type": "execute_result"
    }
   ],
   "source": [
    "NAICS.shape"
   ]
  },
  {
   "cell_type": "markdown",
   "id": "b2b993fb",
   "metadata": {},
   "source": [
    "### Number of Unique VEND_ID Based on PRIME_NAIC "
   ]
  },
  {
   "cell_type": "code",
   "execution_count": 9,
   "id": "a304364d",
   "metadata": {},
   "outputs": [
    {
     "data": {
      "text/plain": [
       "816"
      ]
     },
     "execution_count": 9,
     "metadata": {},
     "output_type": "execute_result"
    }
   ],
   "source": [
    "NAICS['VEND_ID'].nunique()"
   ]
  },
  {
   "cell_type": "code",
   "execution_count": 10,
   "id": "a5445a83",
   "metadata": {},
   "outputs": [
    {
     "data": {
      "text/plain": [
       "582"
      ]
     },
     "execution_count": 10,
     "metadata": {},
     "output_type": "execute_result"
    }
   ],
   "source": [
    "len(NAICS[NAICS['PRIME_NAIC']=='Y'])"
   ]
  },
  {
   "cell_type": "code",
   "execution_count": 11,
   "id": "a49ef660",
   "metadata": {},
   "outputs": [
    {
     "data": {
      "text/plain": [
       "3085"
      ]
     },
     "execution_count": 11,
     "metadata": {},
     "output_type": "execute_result"
    }
   ],
   "source": [
    "len(NAICS[NAICS['PRIME_NAIC']=='N'])"
   ]
  },
  {
   "cell_type": "code",
   "execution_count": 12,
   "id": "899c7fbf",
   "metadata": {},
   "outputs": [
    {
     "data": {
      "text/html": [
       "<div>\n",
       "<style scoped>\n",
       "    .dataframe tbody tr th:only-of-type {\n",
       "        vertical-align: middle;\n",
       "    }\n",
       "\n",
       "    .dataframe tbody tr th {\n",
       "        vertical-align: top;\n",
       "    }\n",
       "\n",
       "    .dataframe thead th {\n",
       "        text-align: right;\n",
       "    }\n",
       "</style>\n",
       "<table border=\"1\" class=\"dataframe\">\n",
       "  <thead>\n",
       "    <tr style=\"text-align: right;\">\n",
       "      <th></th>\n",
       "      <th>VEND_ID</th>\n",
       "      <th>VEND_APPRVL_CD</th>\n",
       "      <th>COMPANY_ID</th>\n",
       "      <th>VEND_NAME</th>\n",
       "      <th>OPP_NAICS_CD</th>\n",
       "      <th>OPP_NAICS_DESC</th>\n",
       "      <th>PRIME_NAIC</th>\n",
       "      <th>DUNS_NO</th>\n",
       "      <th>CAGE_CD</th>\n",
       "    </tr>\n",
       "  </thead>\n",
       "  <tbody>\n",
       "    <tr>\n",
       "      <th>0</th>\n",
       "      <td>100-02</td>\n",
       "      <td>{A}</td>\n",
       "      <td>{2}</td>\n",
       "      <td>{SPIVEY DISPOSAL, LLC }</td>\n",
       "      <td>{562998.0}</td>\n",
       "      <td>{All Other Miscellaneous Waste Management Serv...</td>\n",
       "      <td>{N}</td>\n",
       "      <td>{145902990}</td>\n",
       "      <td>{54KV4}</td>\n",
       "    </tr>\n",
       "    <tr>\n",
       "      <th>1</th>\n",
       "      <td>10000</td>\n",
       "      <td>{A}</td>\n",
       "      <td>{7}</td>\n",
       "      <td>{ABS AMERICAS}</td>\n",
       "      <td>{541620.0, 238220.0, 541614.0, 561210.0, 54161...</td>\n",
       "      <td>{Administrative Management and General Managem...</td>\n",
       "      <td>{Y, N}</td>\n",
       "      <td>{044710341}</td>\n",
       "      <td>{2B704}</td>\n",
       "    </tr>\n",
       "    <tr>\n",
       "      <th>2</th>\n",
       "      <td>10050</td>\n",
       "      <td>{A}</td>\n",
       "      <td>{7}</td>\n",
       "      <td>{ACCURATE MARINE ENVIRONME}</td>\n",
       "      <td>{483211.0, 562112.0, 213112.0, 562119.0, 56291...</td>\n",
       "      <td>{Commercial and Industrial Machinery and Equip...</td>\n",
       "      <td>{Y, N}</td>\n",
       "      <td>{933770448}</td>\n",
       "      <td>{1FLA3}</td>\n",
       "    </tr>\n",
       "    <tr>\n",
       "      <th>3</th>\n",
       "      <td>101-02</td>\n",
       "      <td>{A}</td>\n",
       "      <td>{2}</td>\n",
       "      <td>{K.R. CAMPBELL INC. DBA HO}</td>\n",
       "      <td>{334515.0}</td>\n",
       "      <td>{Instrument Manufacturing for Measuring and Te...</td>\n",
       "      <td>{N}</td>\n",
       "      <td>{032212990}</td>\n",
       "      <td>{07KK8}</td>\n",
       "    </tr>\n",
       "    <tr>\n",
       "      <th>4</th>\n",
       "      <td>10166</td>\n",
       "      <td>{A}</td>\n",
       "      <td>{7}</td>\n",
       "      <td>{ADVANCED DESIGN}</td>\n",
       "      <td>{332999.0, 332812.0, 339950.0, 323113.0}</td>\n",
       "      <td>{Metal Coating, Engraving (except Jewelry and ...</td>\n",
       "      <td>{Y, N}</td>\n",
       "      <td>{556464824}</td>\n",
       "      <td>{0BX13  }</td>\n",
       "    </tr>\n",
       "  </tbody>\n",
       "</table>\n",
       "</div>"
      ],
      "text/plain": [
       "  VEND_ID VEND_APPRVL_CD COMPANY_ID                    VEND_NAME  \\\n",
       "0  100-02            {A}        {2}      {SPIVEY DISPOSAL, LLC }   \n",
       "1   10000            {A}        {7}               {ABS AMERICAS}   \n",
       "2   10050            {A}        {7}  {ACCURATE MARINE ENVIRONME}   \n",
       "3  101-02            {A}        {2}  {K.R. CAMPBELL INC. DBA HO}   \n",
       "4   10166            {A}        {7}            {ADVANCED DESIGN}   \n",
       "\n",
       "                                        OPP_NAICS_CD  \\\n",
       "0                                         {562998.0}   \n",
       "1  {541620.0, 238220.0, 541614.0, 561210.0, 54161...   \n",
       "2  {483211.0, 562112.0, 213112.0, 562119.0, 56291...   \n",
       "3                                         {334515.0}   \n",
       "4           {332999.0, 332812.0, 339950.0, 323113.0}   \n",
       "\n",
       "                                      OPP_NAICS_DESC PRIME_NAIC      DUNS_NO  \\\n",
       "0  {All Other Miscellaneous Waste Management Serv...        {N}  {145902990}   \n",
       "1  {Administrative Management and General Managem...     {Y, N}  {044710341}   \n",
       "2  {Commercial and Industrial Machinery and Equip...     {Y, N}  {933770448}   \n",
       "3  {Instrument Manufacturing for Measuring and Te...        {N}  {032212990}   \n",
       "4  {Metal Coating, Engraving (except Jewelry and ...     {Y, N}  {556464824}   \n",
       "\n",
       "     CAGE_CD  \n",
       "0    {54KV4}  \n",
       "1    {2B704}  \n",
       "2    {1FLA3}  \n",
       "3    {07KK8}  \n",
       "4  {0BX13  }  "
      ]
     },
     "execution_count": 12,
     "metadata": {},
     "output_type": "execute_result"
    }
   ],
   "source": [
    "g=NAICS.groupby('VEND_ID').agg(set).reset_index()\n",
    "g.head()"
   ]
  },
  {
   "cell_type": "code",
   "execution_count": 23,
   "id": "4f209756",
   "metadata": {},
   "outputs": [],
   "source": [
    "# len(g[g['PRIME_NAIC']=={'N'}])"
   ]
  },
  {
   "cell_type": "code",
   "execution_count": 24,
   "id": "4f5ac260",
   "metadata": {},
   "outputs": [],
   "source": [
    "# len(g[g['PRIME_NAIC']=={'Y'}])"
   ]
  },
  {
   "cell_type": "code",
   "execution_count": 25,
   "id": "6ecd1ffa",
   "metadata": {},
   "outputs": [],
   "source": [
    "# len(g[g['PRIME_NAIC']=={'N','Y'}])"
   ]
  },
  {
   "cell_type": "code",
   "execution_count": 26,
   "id": "04d038dd",
   "metadata": {},
   "outputs": [
    {
     "data": {
      "text/plain": [
       "(582, 9)"
      ]
     },
     "execution_count": 26,
     "metadata": {},
     "output_type": "execute_result"
    }
   ],
   "source": [
    "NAICS_Y = NAICS[NAICS['PRIME_NAIC']=='Y']\n",
    "# NAICS_Y['VEND_ID'].nunique()\n",
    "NAICS_Y.shape"
   ]
  },
  {
   "cell_type": "code",
   "execution_count": 27,
   "id": "8d59a28f",
   "metadata": {},
   "outputs": [
    {
     "data": {
      "text/plain": [
       "(234, 9)"
      ]
     },
     "execution_count": 27,
     "metadata": {},
     "output_type": "execute_result"
    }
   ],
   "source": [
    "NAICS_N= g[g['PRIME_NAIC']=={'N'}]\n",
    "# NAICS_N['VEND_ID'].nunique()\n",
    "NAICS_N.shape"
   ]
  },
  {
   "cell_type": "code",
   "execution_count": 28,
   "id": "a68a1a30",
   "metadata": {},
   "outputs": [
    {
     "data": {
      "text/plain": [
       "(816, 9)"
      ]
     },
     "execution_count": 28,
     "metadata": {},
     "output_type": "execute_result"
    }
   ],
   "source": [
    "df_NAICS= pd.concat([NAICS_Y, NAICS_N]).reset_index(drop = True)\n",
    "df_NAICS.shape"
   ]
  },
  {
   "cell_type": "markdown",
   "id": "3843dc05",
   "metadata": {},
   "source": [
    "## Fairlead_OnTime data"
   ]
  },
  {
   "cell_type": "code",
   "execution_count": 29,
   "id": "051e6292",
   "metadata": {},
   "outputs": [],
   "source": [
    "Fairlead_OnTime = pd.read_csv('FairleadOnTimeDeliveryFBW-FINT _Range 3-1-21 _3-1-22.csv')"
   ]
  },
  {
   "cell_type": "code",
   "execution_count": 30,
   "id": "0597241f",
   "metadata": {},
   "outputs": [
    {
     "data": {
      "text/html": [
       "<div>\n",
       "<style scoped>\n",
       "    .dataframe tbody tr th:only-of-type {\n",
       "        vertical-align: middle;\n",
       "    }\n",
       "\n",
       "    .dataframe tbody tr th {\n",
       "        vertical-align: top;\n",
       "    }\n",
       "\n",
       "    .dataframe thead th {\n",
       "        text-align: right;\n",
       "    }\n",
       "</style>\n",
       "<table border=\"1\" class=\"dataframe\">\n",
       "  <thead>\n",
       "    <tr style=\"text-align: right;\">\n",
       "      <th></th>\n",
       "      <th>COMPANY_ID</th>\n",
       "      <th>PO_ID</th>\n",
       "      <th>PO_LN_NO</th>\n",
       "      <th>ITEM_ID</th>\n",
       "      <th>RECPT_LN_DESC</th>\n",
       "      <th>DUE_DT</th>\n",
       "      <th>RECPT_DT</th>\n",
       "      <th>RECPT_ID</th>\n",
       "      <th>RECV_UM_CD</th>\n",
       "      <th>RECV_QTY</th>\n",
       "      <th>...</th>\n",
       "      <th>ACCPT_AMT</th>\n",
       "      <th>REJ_AMT</th>\n",
       "      <th>PROJ_ID</th>\n",
       "      <th>VEND_ID</th>\n",
       "      <th>VEND_LONG_NAME</th>\n",
       "      <th>PO_LINE#</th>\n",
       "      <th>ON_TIME_TEST</th>\n",
       "      <th>WEEK_RECPT_DT</th>\n",
       "      <th>YEAR_RECPT_DT</th>\n",
       "      <th>DAYS_LATE</th>\n",
       "    </tr>\n",
       "  </thead>\n",
       "  <tbody>\n",
       "    <tr>\n",
       "      <th>0</th>\n",
       "      <td>7</td>\n",
       "      <td>FBW2014701</td>\n",
       "      <td>1</td>\n",
       "      <td>3M 6885</td>\n",
       "      <td>LENS COVER, FOR 6800 RESPIRATOR, 25/BAG</td>\n",
       "      <td>4/2/2021</td>\n",
       "      <td>3/29/2021</td>\n",
       "      <td>POR0013976</td>\n",
       "      <td>BAG</td>\n",
       "      <td>2.0</td>\n",
       "      <td>...</td>\n",
       "      <td>89.00</td>\n",
       "      <td>0.0</td>\n",
       "      <td>07OHD.GENR.03.01</td>\n",
       "      <td>10150</td>\n",
       "      <td>ADVANCE SAFETY EQUIPMENT CO.</td>\n",
       "      <td>FBW2014701_1</td>\n",
       "      <td>On Time</td>\n",
       "      <td>14</td>\n",
       "      <td>2021</td>\n",
       "      <td>0</td>\n",
       "    </tr>\n",
       "    <tr>\n",
       "      <th>1</th>\n",
       "      <td>7</td>\n",
       "      <td>FBW2017059</td>\n",
       "      <td>1</td>\n",
       "      <td>70156521</td>\n",
       "      <td>ACCESSORY, BOOT, SILICONE RUBBER POLYMER, BRAS...</td>\n",
       "      <td>12/1/2021</td>\n",
       "      <td>11/15/2021</td>\n",
       "      <td>POR-003612</td>\n",
       "      <td>EA</td>\n",
       "      <td>40.0</td>\n",
       "      <td>...</td>\n",
       "      <td>100.00</td>\n",
       "      <td>0.0</td>\n",
       "      <td>D1905.0001.08</td>\n",
       "      <td>11525</td>\n",
       "      <td>AWC - ALLIED WIRE &amp; CABLE</td>\n",
       "      <td>FBW2017059_1</td>\n",
       "      <td>On Time</td>\n",
       "      <td>47</td>\n",
       "      <td>2021</td>\n",
       "      <td>0</td>\n",
       "    </tr>\n",
       "    <tr>\n",
       "      <th>2</th>\n",
       "      <td>7</td>\n",
       "      <td>FBW2017059</td>\n",
       "      <td>2</td>\n",
       "      <td>M24308/2-1F</td>\n",
       "      <td>D-SUB MIL SPEC CONNECTOR 9P RECEPTACLE, FEMALE...</td>\n",
       "      <td>12/1/2021</td>\n",
       "      <td>11/15/2021</td>\n",
       "      <td>POR-003612</td>\n",
       "      <td>PC</td>\n",
       "      <td>4.0</td>\n",
       "      <td>...</td>\n",
       "      <td>117.04</td>\n",
       "      <td>0.0</td>\n",
       "      <td>D1905.0001.08</td>\n",
       "      <td>11525</td>\n",
       "      <td>AWC - ALLIED WIRE &amp; CABLE</td>\n",
       "      <td>FBW2017059_2</td>\n",
       "      <td>On Time</td>\n",
       "      <td>47</td>\n",
       "      <td>2021</td>\n",
       "      <td>0</td>\n",
       "    </tr>\n",
       "    <tr>\n",
       "      <th>3</th>\n",
       "      <td>7</td>\n",
       "      <td>FBW2017059</td>\n",
       "      <td>3</td>\n",
       "      <td>M24308/4-1F</td>\n",
       "      <td>D-SUB MIL SPEC CONNECTORS D-SUB 9P MALE CRIMP ...</td>\n",
       "      <td>12/1/2021</td>\n",
       "      <td>11/15/2021</td>\n",
       "      <td>POR-003612</td>\n",
       "      <td>PC</td>\n",
       "      <td>4.0</td>\n",
       "      <td>...</td>\n",
       "      <td>91.40</td>\n",
       "      <td>0.0</td>\n",
       "      <td>D1905.0001.08</td>\n",
       "      <td>11525</td>\n",
       "      <td>AWC - ALLIED WIRE &amp; CABLE</td>\n",
       "      <td>FBW2017059_3</td>\n",
       "      <td>On Time</td>\n",
       "      <td>47</td>\n",
       "      <td>2021</td>\n",
       "      <td>0</td>\n",
       "    </tr>\n",
       "    <tr>\n",
       "      <th>4</th>\n",
       "      <td>2</td>\n",
       "      <td>F205550</td>\n",
       "      <td>1</td>\n",
       "      <td>HWS600-24/HD</td>\n",
       "      <td>POWER SUPPLY, 120VAC/24VDC, 600 WATTS</td>\n",
       "      <td>7/30/2021</td>\n",
       "      <td>3/25/2021</td>\n",
       "      <td>POR-012975</td>\n",
       "      <td>EA</td>\n",
       "      <td>6.0</td>\n",
       "      <td>...</td>\n",
       "      <td>3551.52</td>\n",
       "      <td>0.0</td>\n",
       "      <td>20549.0003.01</td>\n",
       "      <td>120009</td>\n",
       "      <td>ALLIED ELECTRONICS, INC.</td>\n",
       "      <td>F205550_1</td>\n",
       "      <td>On Time</td>\n",
       "      <td>13</td>\n",
       "      <td>2021</td>\n",
       "      <td>0</td>\n",
       "    </tr>\n",
       "  </tbody>\n",
       "</table>\n",
       "<p>5 rows × 23 columns</p>\n",
       "</div>"
      ],
      "text/plain": [
       "   COMPANY_ID       PO_ID  PO_LN_NO       ITEM_ID  \\\n",
       "0           7  FBW2014701         1       3M 6885   \n",
       "1           7  FBW2017059         1      70156521   \n",
       "2           7  FBW2017059         2   M24308/2-1F   \n",
       "3           7  FBW2017059         3   M24308/4-1F   \n",
       "4           2     F205550         1  HWS600-24/HD   \n",
       "\n",
       "                                       RECPT_LN_DESC     DUE_DT    RECPT_DT  \\\n",
       "0            LENS COVER, FOR 6800 RESPIRATOR, 25/BAG   4/2/2021   3/29/2021   \n",
       "1  ACCESSORY, BOOT, SILICONE RUBBER POLYMER, BRAS...  12/1/2021  11/15/2021   \n",
       "2  D-SUB MIL SPEC CONNECTOR 9P RECEPTACLE, FEMALE...  12/1/2021  11/15/2021   \n",
       "3  D-SUB MIL SPEC CONNECTORS D-SUB 9P MALE CRIMP ...  12/1/2021  11/15/2021   \n",
       "4              POWER SUPPLY, 120VAC/24VDC, 600 WATTS  7/30/2021   3/25/2021   \n",
       "\n",
       "     RECPT_ID RECV_UM_CD  RECV_QTY  ...  ACCPT_AMT  REJ_AMT           PROJ_ID  \\\n",
       "0  POR0013976        BAG       2.0  ...      89.00      0.0  07OHD.GENR.03.01   \n",
       "1  POR-003612         EA      40.0  ...     100.00      0.0     D1905.0001.08   \n",
       "2  POR-003612         PC       4.0  ...     117.04      0.0     D1905.0001.08   \n",
       "3  POR-003612         PC       4.0  ...      91.40      0.0     D1905.0001.08   \n",
       "4  POR-012975         EA       6.0  ...    3551.52      0.0     20549.0003.01   \n",
       "\n",
       "   VEND_ID                VEND_LONG_NAME      PO_LINE# ON_TIME_TEST  \\\n",
       "0    10150  ADVANCE SAFETY EQUIPMENT CO.  FBW2014701_1      On Time   \n",
       "1    11525     AWC - ALLIED WIRE & CABLE  FBW2017059_1      On Time   \n",
       "2    11525     AWC - ALLIED WIRE & CABLE  FBW2017059_2      On Time   \n",
       "3    11525     AWC - ALLIED WIRE & CABLE  FBW2017059_3      On Time   \n",
       "4   120009      ALLIED ELECTRONICS, INC.     F205550_1      On Time   \n",
       "\n",
       "  WEEK_RECPT_DT YEAR_RECPT_DT DAYS_LATE  \n",
       "0            14          2021         0  \n",
       "1            47          2021         0  \n",
       "2            47          2021         0  \n",
       "3            47          2021         0  \n",
       "4            13          2021         0  \n",
       "\n",
       "[5 rows x 23 columns]"
      ]
     },
     "execution_count": 30,
     "metadata": {},
     "output_type": "execute_result"
    }
   ],
   "source": [
    "Fairlead_OnTime.head()"
   ]
  },
  {
   "cell_type": "code",
   "execution_count": 31,
   "id": "e7208e38",
   "metadata": {},
   "outputs": [
    {
     "data": {
      "text/plain": [
       "(13963, 23)"
      ]
     },
     "execution_count": 31,
     "metadata": {},
     "output_type": "execute_result"
    }
   ],
   "source": [
    "Fairlead_OnTime.shape"
   ]
  },
  {
   "cell_type": "code",
   "execution_count": 32,
   "id": "dab6bb51",
   "metadata": {},
   "outputs": [
    {
     "data": {
      "text/plain": [
       "COMPANY_ID        0\n",
       "PO_ID             0\n",
       "PO_LN_NO          0\n",
       "ITEM_ID           0\n",
       "RECPT_LN_DESC     0\n",
       "DUE_DT            0\n",
       "RECPT_DT          0\n",
       "RECPT_ID          0\n",
       "RECV_UM_CD        1\n",
       "RECV_QTY          0\n",
       "ACCPT_QTY         0\n",
       "REJ_QTY           0\n",
       "RECV_AMT          0\n",
       "ACCPT_AMT         0\n",
       "REJ_AMT           0\n",
       "PROJ_ID           4\n",
       "VEND_ID           0\n",
       "VEND_LONG_NAME    0\n",
       "PO_LINE#          0\n",
       "ON_TIME_TEST      0\n",
       "WEEK_RECPT_DT     0\n",
       "YEAR_RECPT_DT     0\n",
       "DAYS_LATE         0\n",
       "dtype: int64"
      ]
     },
     "execution_count": 32,
     "metadata": {},
     "output_type": "execute_result"
    }
   ],
   "source": [
    "Fairlead_OnTime.isnull().sum()"
   ]
  },
  {
   "cell_type": "code",
   "execution_count": 33,
   "id": "aa416bde",
   "metadata": {},
   "outputs": [],
   "source": [
    "Fairlead_OnTime.dropna(inplace = True)"
   ]
  },
  {
   "cell_type": "code",
   "execution_count": 34,
   "id": "631b63f2",
   "metadata": {},
   "outputs": [],
   "source": [
    "Fairlead_OnTime.reset_index(drop=True,inplace=True)"
   ]
  },
  {
   "cell_type": "code",
   "execution_count": 35,
   "id": "d1380ef1",
   "metadata": {},
   "outputs": [
    {
     "data": {
      "text/plain": [
       "(13958, 23)"
      ]
     },
     "execution_count": 35,
     "metadata": {},
     "output_type": "execute_result"
    }
   ],
   "source": [
    "Fairlead_OnTime.shape"
   ]
  },
  {
   "cell_type": "markdown",
   "id": "47111742",
   "metadata": {},
   "source": [
    "## number of orders (PO_ID) placed to each vendor aggregated by NAICS code"
   ]
  },
  {
   "cell_type": "code",
   "execution_count": 36,
   "id": "7897cd6a",
   "metadata": {},
   "outputs": [],
   "source": [
    "merged_df_NAICS_Fairlead = pd.merge(df_NAICS,Fairlead_OnTime, how='inner',on ='VEND_ID')"
   ]
  },
  {
   "cell_type": "code",
   "execution_count": 37,
   "id": "bc9dc4b9",
   "metadata": {},
   "outputs": [
    {
     "data": {
      "text/plain": [
       "(12610, 31)"
      ]
     },
     "execution_count": 37,
     "metadata": {},
     "output_type": "execute_result"
    }
   ],
   "source": [
    "merged_df_NAICS_Fairlead.shape"
   ]
  },
  {
   "cell_type": "code",
   "execution_count": 38,
   "id": "741032a3",
   "metadata": {},
   "outputs": [
    {
     "data": {
      "text/html": [
       "<div>\n",
       "<style scoped>\n",
       "    .dataframe tbody tr th:only-of-type {\n",
       "        vertical-align: middle;\n",
       "    }\n",
       "\n",
       "    .dataframe tbody tr th {\n",
       "        vertical-align: top;\n",
       "    }\n",
       "\n",
       "    .dataframe thead th {\n",
       "        text-align: right;\n",
       "    }\n",
       "</style>\n",
       "<table border=\"1\" class=\"dataframe\">\n",
       "  <thead>\n",
       "    <tr style=\"text-align: right;\">\n",
       "      <th></th>\n",
       "      <th>PO_ID</th>\n",
       "      <th>VEND_ID</th>\n",
       "    </tr>\n",
       "  </thead>\n",
       "  <tbody>\n",
       "    <tr>\n",
       "      <th>0</th>\n",
       "      <td>IPC003583</td>\n",
       "      <td>120005</td>\n",
       "    </tr>\n",
       "    <tr>\n",
       "      <th>1</th>\n",
       "      <td>IPC003583</td>\n",
       "      <td>120005</td>\n",
       "    </tr>\n",
       "    <tr>\n",
       "      <th>2</th>\n",
       "      <td>IPC003583</td>\n",
       "      <td>120005</td>\n",
       "    </tr>\n",
       "    <tr>\n",
       "      <th>3</th>\n",
       "      <td>IPC003583</td>\n",
       "      <td>120005</td>\n",
       "    </tr>\n",
       "    <tr>\n",
       "      <th>4</th>\n",
       "      <td>F205550</td>\n",
       "      <td>120009</td>\n",
       "    </tr>\n",
       "  </tbody>\n",
       "</table>\n",
       "</div>"
      ],
      "text/plain": [
       "       PO_ID VEND_ID\n",
       "0  IPC003583  120005\n",
       "1  IPC003583  120005\n",
       "2  IPC003583  120005\n",
       "3  IPC003583  120005\n",
       "4    F205550  120009"
      ]
     },
     "execution_count": 38,
     "metadata": {},
     "output_type": "execute_result"
    }
   ],
   "source": [
    "merged_df_NAICS_Fairlead[['PO_ID','VEND_ID']].head()"
   ]
  },
  {
   "cell_type": "code",
   "execution_count": 40,
   "id": "71fabee1",
   "metadata": {},
   "outputs": [],
   "source": [
    "# merged_df_NAICS_Fairlead['VEND_ID'].value_counts()"
   ]
  },
  {
   "cell_type": "code",
   "execution_count": 41,
   "id": "f2cef9ed",
   "metadata": {},
   "outputs": [
    {
     "data": {
      "text/html": [
       "<div>\n",
       "<style scoped>\n",
       "    .dataframe tbody tr th:only-of-type {\n",
       "        vertical-align: middle;\n",
       "    }\n",
       "\n",
       "    .dataframe tbody tr th {\n",
       "        vertical-align: top;\n",
       "    }\n",
       "\n",
       "    .dataframe thead th {\n",
       "        text-align: right;\n",
       "    }\n",
       "</style>\n",
       "<table border=\"1\" class=\"dataframe\">\n",
       "  <thead>\n",
       "    <tr style=\"text-align: right;\">\n",
       "      <th></th>\n",
       "      <th>VEND_ID</th>\n",
       "      <th>PO_ID</th>\n",
       "    </tr>\n",
       "  </thead>\n",
       "  <tbody>\n",
       "    <tr>\n",
       "      <th>0</th>\n",
       "      <td>10166</td>\n",
       "      <td>[FBW2014461, FBW2014621, FBW2015240, FBW201524...</td>\n",
       "    </tr>\n",
       "    <tr>\n",
       "      <th>1</th>\n",
       "      <td>10760</td>\n",
       "      <td>[FBW2014153, FBW2016055, FBW2016319, FBW2016559]</td>\n",
       "    </tr>\n",
       "    <tr>\n",
       "      <th>2</th>\n",
       "      <td>11525</td>\n",
       "      <td>[FBW2017059]</td>\n",
       "    </tr>\n",
       "    <tr>\n",
       "      <th>3</th>\n",
       "      <td>11540</td>\n",
       "      <td>[FBW2015948, FBW2015950]</td>\n",
       "    </tr>\n",
       "    <tr>\n",
       "      <th>4</th>\n",
       "      <td>120005</td>\n",
       "      <td>[IPC003583]</td>\n",
       "    </tr>\n",
       "    <tr>\n",
       "      <th>...</th>\n",
       "      <td>...</td>\n",
       "      <td>...</td>\n",
       "    </tr>\n",
       "    <tr>\n",
       "      <th>264</th>\n",
       "      <td>M58946</td>\n",
       "      <td>[F206636, F206381, F205793, F206243, F206270, ...</td>\n",
       "    </tr>\n",
       "    <tr>\n",
       "      <th>265</th>\n",
       "      <td>M59211</td>\n",
       "      <td>[F206803]</td>\n",
       "    </tr>\n",
       "    <tr>\n",
       "      <th>266</th>\n",
       "      <td>M59355</td>\n",
       "      <td>[F206423]</td>\n",
       "    </tr>\n",
       "    <tr>\n",
       "      <th>267</th>\n",
       "      <td>M59403</td>\n",
       "      <td>[F207041, F207040]</td>\n",
       "    </tr>\n",
       "    <tr>\n",
       "      <th>268</th>\n",
       "      <td>M59409</td>\n",
       "      <td>[F206784]</td>\n",
       "    </tr>\n",
       "  </tbody>\n",
       "</table>\n",
       "<p>269 rows × 2 columns</p>\n",
       "</div>"
      ],
      "text/plain": [
       "    VEND_ID                                              PO_ID\n",
       "0     10166  [FBW2014461, FBW2014621, FBW2015240, FBW201524...\n",
       "1     10760   [FBW2014153, FBW2016055, FBW2016319, FBW2016559]\n",
       "2     11525                                       [FBW2017059]\n",
       "3     11540                           [FBW2015948, FBW2015950]\n",
       "4    120005                                        [IPC003583]\n",
       "..      ...                                                ...\n",
       "264  M58946  [F206636, F206381, F205793, F206243, F206270, ...\n",
       "265  M59211                                          [F206803]\n",
       "266  M59355                                          [F206423]\n",
       "267  M59403                                 [F207041, F207040]\n",
       "268  M59409                                          [F206784]\n",
       "\n",
       "[269 rows x 2 columns]"
      ]
     },
     "execution_count": 41,
     "metadata": {},
     "output_type": "execute_result"
    }
   ],
   "source": [
    "No_Order_VEND=merged_df_NAICS_Fairlead.groupby('VEND_ID')['PO_ID'].agg('unique').reset_index()\n",
    "No_Order_VEND"
   ]
  },
  {
   "cell_type": "code",
   "execution_count": 42,
   "id": "ae2bbb15",
   "metadata": {},
   "outputs": [],
   "source": [
    "No_Order_VEND['Count_PO_ID'] = No_Order_VEND['PO_ID'].apply (lambda x:len(x))"
   ]
  },
  {
   "cell_type": "code",
   "execution_count": 43,
   "id": "2c383f49",
   "metadata": {},
   "outputs": [
    {
     "data": {
      "text/html": [
       "<div>\n",
       "<style scoped>\n",
       "    .dataframe tbody tr th:only-of-type {\n",
       "        vertical-align: middle;\n",
       "    }\n",
       "\n",
       "    .dataframe tbody tr th {\n",
       "        vertical-align: top;\n",
       "    }\n",
       "\n",
       "    .dataframe thead th {\n",
       "        text-align: right;\n",
       "    }\n",
       "</style>\n",
       "<table border=\"1\" class=\"dataframe\">\n",
       "  <thead>\n",
       "    <tr style=\"text-align: right;\">\n",
       "      <th></th>\n",
       "      <th>VEND_ID</th>\n",
       "      <th>PO_ID</th>\n",
       "      <th>Count_PO_ID</th>\n",
       "    </tr>\n",
       "  </thead>\n",
       "  <tbody>\n",
       "    <tr>\n",
       "      <th>0</th>\n",
       "      <td>10166</td>\n",
       "      <td>[FBW2014461, FBW2014621, FBW2015240, FBW201524...</td>\n",
       "      <td>10</td>\n",
       "    </tr>\n",
       "    <tr>\n",
       "      <th>1</th>\n",
       "      <td>10760</td>\n",
       "      <td>[FBW2014153, FBW2016055, FBW2016319, FBW2016559]</td>\n",
       "      <td>4</td>\n",
       "    </tr>\n",
       "    <tr>\n",
       "      <th>2</th>\n",
       "      <td>11525</td>\n",
       "      <td>[FBW2017059]</td>\n",
       "      <td>1</td>\n",
       "    </tr>\n",
       "    <tr>\n",
       "      <th>3</th>\n",
       "      <td>11540</td>\n",
       "      <td>[FBW2015948, FBW2015950]</td>\n",
       "      <td>2</td>\n",
       "    </tr>\n",
       "    <tr>\n",
       "      <th>4</th>\n",
       "      <td>120005</td>\n",
       "      <td>[IPC003583]</td>\n",
       "      <td>1</td>\n",
       "    </tr>\n",
       "  </tbody>\n",
       "</table>\n",
       "</div>"
      ],
      "text/plain": [
       "  VEND_ID                                              PO_ID  Count_PO_ID\n",
       "0   10166  [FBW2014461, FBW2014621, FBW2015240, FBW201524...           10\n",
       "1   10760   [FBW2014153, FBW2016055, FBW2016319, FBW2016559]            4\n",
       "2   11525                                       [FBW2017059]            1\n",
       "3   11540                           [FBW2015948, FBW2015950]            2\n",
       "4  120005                                        [IPC003583]            1"
      ]
     },
     "execution_count": 43,
     "metadata": {},
     "output_type": "execute_result"
    }
   ],
   "source": [
    "No_Order_VEND.head()"
   ]
  },
  {
   "cell_type": "code",
   "execution_count": 44,
   "id": "306a412d",
   "metadata": {},
   "outputs": [
    {
     "data": {
      "text/plain": [
       "count    269.000000\n",
       "mean      13.791822\n",
       "std       33.325080\n",
       "min        1.000000\n",
       "25%        1.000000\n",
       "50%        4.000000\n",
       "75%        9.000000\n",
       "max      284.000000\n",
       "Name: Count_PO_ID, dtype: float64"
      ]
     },
     "execution_count": 44,
     "metadata": {},
     "output_type": "execute_result"
    }
   ],
   "source": [
    "No_Order_VEND['Count_PO_ID'].describe()"
   ]
  },
  {
   "cell_type": "code",
   "execution_count": 45,
   "id": "2f8b2c66",
   "metadata": {},
   "outputs": [
    {
     "data": {
      "text/plain": [
       "3710"
      ]
     },
     "execution_count": 45,
     "metadata": {},
     "output_type": "execute_result"
    }
   ],
   "source": [
    "merged_df_NAICS_Fairlead['PO_ID'].nunique()"
   ]
  },
  {
   "cell_type": "markdown",
   "id": "ceaac0a6",
   "metadata": {},
   "source": [
    "## NO. of Orders per VEND_ID for Orders higher than 30"
   ]
  },
  {
   "cell_type": "code",
   "execution_count": 46,
   "id": "99eac1f2",
   "metadata": {},
   "outputs": [
    {
     "data": {
      "image/png": "[encoded data removed]",
      "text/plain": [
       "<Figure size 500x700 with 1 Axes>"
      ]
     },
     "metadata": {},
     "output_type": "display_data"
    }
   ],
   "source": [
    "fig = plt.figure(figsize =(5, 7))\n",
    "\n",
    "plt.barh(No_Order_VEND[No_Order_VEND['Count_PO_ID']>30]['VEND_ID'], No_Order_VEND[No_Order_VEND['Count_PO_ID']>30]['Count_PO_ID'], color ='maroon')\n",
    " \n",
    "plt.xlabel(\"No. of Orders\")\n",
    "plt.ylabel(\"VEND_ID\")\n",
    "plt.title(\"No. of Orders Per VEND_ID\")\n",
    "plt.show()"
   ]
  },
  {
   "cell_type": "markdown",
   "id": "42cba1d5",
   "metadata": {},
   "source": [
    "##  number of Orders ordered for each ITEM_ID aggregated by NAICS code"
   ]
  },
  {
   "cell_type": "code",
   "execution_count": 47,
   "id": "ef269098",
   "metadata": {},
   "outputs": [
    {
     "data": {
      "text/plain": [
       "(13958, 23)"
      ]
     },
     "execution_count": 47,
     "metadata": {},
     "output_type": "execute_result"
    }
   ],
   "source": [
    "Fairlead_OnTime.shape"
   ]
  },
  {
   "cell_type": "code",
   "execution_count": 48,
   "id": "85a0fff7",
   "metadata": {},
   "outputs": [
    {
     "data": {
      "text/plain": [
       "13958"
      ]
     },
     "execution_count": 48,
     "metadata": {},
     "output_type": "execute_result"
    }
   ],
   "source": [
    "Fairlead_OnTime['ITEM_ID'].count()"
   ]
  },
  {
   "cell_type": "code",
   "execution_count": 49,
   "id": "33f02781",
   "metadata": {},
   "outputs": [
    {
     "data": {
      "text/plain": [
       "G01 SP101-300    73\n",
       "HAZ MAT          70\n",
       "G01 LP033        46\n",
       "ARC3 DELIVERY    35\n",
       "G01 OX300        34\n",
       "                 ..\n",
       "21936Q            1\n",
       "21917Q            1\n",
       "D4A-C00           1\n",
       "600RJ-6           1\n",
       "2VHX2             1\n",
       "Name: ITEM_ID, Length: 7887, dtype: int64"
      ]
     },
     "execution_count": 49,
     "metadata": {},
     "output_type": "execute_result"
    }
   ],
   "source": [
    "merged_df_NAICS_Fairlead['ITEM_ID'].value_counts()"
   ]
  },
  {
   "cell_type": "code",
   "execution_count": 52,
   "id": "c8b1ab1b",
   "metadata": {},
   "outputs": [],
   "source": [
    "No_Order_ITEM = merged_df_NAICS_Fairlead.groupby('ITEM_ID')['PO_ID'].agg('unique').reset_index()\n",
    "No_Order_ITEM['Count_PO_ID'] = No_Order_ITEM['PO_ID'].apply (lambda x:len(x))\n",
    "# No_Order_ITEM.head()"
   ]
  },
  {
   "cell_type": "code",
   "execution_count": 53,
   "id": "53ec6ad7",
   "metadata": {},
   "outputs": [
    {
     "data": {
      "text/plain": [
       "count    7887.000000\n",
       "mean        1.373272\n",
       "std         1.002222\n",
       "min         1.000000\n",
       "25%         1.000000\n",
       "50%         1.000000\n",
       "75%         1.000000\n",
       "max        36.000000\n",
       "Name: Count_PO_ID, dtype: float64"
      ]
     },
     "execution_count": 53,
     "metadata": {},
     "output_type": "execute_result"
    }
   ],
   "source": [
    "No_Order_ITEM['Count_PO_ID'].describe()"
   ]
  },
  {
   "cell_type": "code",
   "execution_count": 54,
   "id": "1abdadc5",
   "metadata": {},
   "outputs": [
    {
     "data": {
      "text/plain": [
       "12610"
      ]
     },
     "execution_count": 54,
     "metadata": {},
     "output_type": "execute_result"
    }
   ],
   "source": [
    "merged_df_NAICS_Fairlead['ITEM_ID'].count()"
   ]
  },
  {
   "cell_type": "code",
   "execution_count": 55,
   "id": "c68aede7",
   "metadata": {},
   "outputs": [
    {
     "data": {
      "text/plain": [
       "7887"
      ]
     },
     "execution_count": 55,
     "metadata": {},
     "output_type": "execute_result"
    }
   ],
   "source": [
    "merged_df_NAICS_Fairlead['ITEM_ID'].nunique()"
   ]
  },
  {
   "cell_type": "markdown",
   "id": "ef614662",
   "metadata": {},
   "source": [
    "## No. of Orders per ITEM_ID for orders higher than 6"
   ]
  },
  {
   "cell_type": "code",
   "execution_count": 56,
   "id": "cb40ae79",
   "metadata": {},
   "outputs": [
    {
     "data": {
      "image/png": "[encoded data removed]",
      "text/plain": [
       "<Figure size 500x700 with 1 Axes>"
      ]
     },
     "metadata": {},
     "output_type": "display_data"
    }
   ],
   "source": [
    "fig = plt.figure(figsize =(5, 7))\n",
    "\n",
    "plt.barh(No_Order_ITEM[No_Order_ITEM['Count_PO_ID']>6]['ITEM_ID'], No_Order_ITEM[No_Order_ITEM['Count_PO_ID']>6]['Count_PO_ID'], color ='maroon')\n",
    " \n",
    "plt.xlabel(\"No. of Orders\")\n",
    "plt.ylabel(\"ITEM_ID\")\n",
    "plt.title(\"No. of Orders Per ITEM_ID\")\n",
    "plt.show()"
   ]
  }
 ],
 "metadata": {
  "kernelspec": {
   "display_name": "Python 3 (ipykernel)",
   "language": "python",
   "name": "python3"
  },
  "language_info": {
   "codemirror_mode": {
    "name": "ipython",
    "version": 3
   },
   "file_extension": ".py",
   "mimetype": "text/x-python",
   "name": "python",
   "nbconvert_exporter": "python",
   "pygments_lexer": "ipython3",
   "version": "3.9.9"
  }
 },
 "nbformat": 4,
 "nbformat_minor": 5
}
