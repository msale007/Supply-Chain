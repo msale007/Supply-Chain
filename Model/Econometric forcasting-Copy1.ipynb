{
 "cells": [
  {
   "cell_type": "code",
   "execution_count": 1,
   "id": "3371f4b0",
   "metadata": {},
   "outputs": [],
   "source": [
    "import numpy as np\n",
    "import pandas as pd\n",
    "import matplotlib.pyplot as plt\n",
    "import statsmodels.api as sm\n",
    "from sklearn.metrics import mean_squared_error"
   ]
  },
  {
   "cell_type": "markdown",
   "id": "3d6a8d7a",
   "metadata": {},
   "source": [
    "## GDP"
   ]
  },
  {
   "cell_type": "markdown",
   "id": "b9d95dfa",
   "metadata": {},
   "source": [
    "https://fred.stlouisfed.org/series/GDP"
   ]
  },
  {
   "cell_type": "code",
   "execution_count": 2,
   "id": "c34e3db4",
   "metadata": {},
   "outputs": [
    {
     "data": {
      "text/html": [
       "<div>\n",
       "<style scoped>\n",
       "    .dataframe tbody tr th:only-of-type {\n",
       "        vertical-align: middle;\n",
       "    }\n",
       "\n",
       "    .dataframe tbody tr th {\n",
       "        vertical-align: top;\n",
       "    }\n",
       "\n",
       "    .dataframe thead th {\n",
       "        text-align: right;\n",
       "    }\n",
       "</style>\n",
       "<table border=\"1\" class=\"dataframe\">\n",
       "  <thead>\n",
       "    <tr style=\"text-align: right;\">\n",
       "      <th></th>\n",
       "      <th>DATE</th>\n",
       "      <th>GDP</th>\n",
       "    </tr>\n",
       "  </thead>\n",
       "  <tbody>\n",
       "    <tr>\n",
       "      <th>0</th>\n",
       "      <td>1947-01-01</td>\n",
       "      <td>243.164</td>\n",
       "    </tr>\n",
       "    <tr>\n",
       "      <th>1</th>\n",
       "      <td>1947-04-01</td>\n",
       "      <td>245.968</td>\n",
       "    </tr>\n",
       "    <tr>\n",
       "      <th>2</th>\n",
       "      <td>1947-07-01</td>\n",
       "      <td>249.585</td>\n",
       "    </tr>\n",
       "    <tr>\n",
       "      <th>3</th>\n",
       "      <td>1947-10-01</td>\n",
       "      <td>259.745</td>\n",
       "    </tr>\n",
       "    <tr>\n",
       "      <th>4</th>\n",
       "      <td>1948-01-01</td>\n",
       "      <td>265.742</td>\n",
       "    </tr>\n",
       "  </tbody>\n",
       "</table>\n",
       "</div>"
      ],
      "text/plain": [
       "         DATE      GDP\n",
       "0  1947-01-01  243.164\n",
       "1  1947-04-01  245.968\n",
       "2  1947-07-01  249.585\n",
       "3  1947-10-01  259.745\n",
       "4  1948-01-01  265.742"
      ]
     },
     "execution_count": 2,
     "metadata": {},
     "output_type": "execute_result"
    }
   ],
   "source": [
    "df1 = pd.read_csv('Econometric/GDP.csv')\n",
    "df1.head()"
   ]
  },
  {
   "cell_type": "markdown",
   "id": "d789f0a3",
   "metadata": {},
   "source": [
    "### Convert quarterly data to monthly data"
   ]
  },
  {
   "cell_type": "code",
   "execution_count": 3,
   "id": "783a992e",
   "metadata": {},
   "outputs": [
    {
     "data": {
      "text/html": [
       "<div>\n",
       "<style scoped>\n",
       "    .dataframe tbody tr th:only-of-type {\n",
       "        vertical-align: middle;\n",
       "    }\n",
       "\n",
       "    .dataframe tbody tr th {\n",
       "        vertical-align: top;\n",
       "    }\n",
       "\n",
       "    .dataframe thead th {\n",
       "        text-align: right;\n",
       "    }\n",
       "</style>\n",
       "<table border=\"1\" class=\"dataframe\">\n",
       "  <thead>\n",
       "    <tr style=\"text-align: right;\">\n",
       "      <th></th>\n",
       "      <th>GDP</th>\n",
       "    </tr>\n",
       "    <tr>\n",
       "      <th>DATE</th>\n",
       "      <th></th>\n",
       "    </tr>\n",
       "  </thead>\n",
       "  <tbody>\n",
       "    <tr>\n",
       "      <th>1947-01-01</th>\n",
       "      <td>243.164000</td>\n",
       "    </tr>\n",
       "    <tr>\n",
       "      <th>1947-02-01</th>\n",
       "      <td>244.098667</td>\n",
       "    </tr>\n",
       "    <tr>\n",
       "      <th>1947-03-01</th>\n",
       "      <td>245.033333</td>\n",
       "    </tr>\n",
       "    <tr>\n",
       "      <th>1947-04-01</th>\n",
       "      <td>245.968000</td>\n",
       "    </tr>\n",
       "    <tr>\n",
       "      <th>1947-05-01</th>\n",
       "      <td>247.173667</td>\n",
       "    </tr>\n",
       "  </tbody>\n",
       "</table>\n",
       "</div>"
      ],
      "text/plain": [
       "                   GDP\n",
       "DATE                  \n",
       "1947-01-01  243.164000\n",
       "1947-02-01  244.098667\n",
       "1947-03-01  245.033333\n",
       "1947-04-01  245.968000\n",
       "1947-05-01  247.173667"
      ]
     },
     "execution_count": 3,
     "metadata": {},
     "output_type": "execute_result"
    }
   ],
   "source": [
    "# convert to period\n",
    "df1['DATE'] = pd.to_datetime(df1['DATE']).dt.to_period('M')\n",
    "\n",
    "# set Date as index and resample\n",
    "df1 = df1.set_index('DATE').resample('M').interpolate()\n",
    "df1.index = df1.index.to_timestamp()\n",
    "\n",
    "df1.head()"
   ]
  },
  {
   "cell_type": "markdown",
   "id": "6dbd854e",
   "metadata": {},
   "source": [
    "##  Total Construction Spending: Total Construction in the United States "
   ]
  },
  {
   "cell_type": "markdown",
   "id": "67cb6696",
   "metadata": {},
   "source": [
    "https://fred.stlouisfed.org/series/TTLCONS"
   ]
  },
  {
   "cell_type": "code",
   "execution_count": 4,
   "id": "7ee7beb0",
   "metadata": {},
   "outputs": [
    {
     "data": {
      "text/html": [
       "<div>\n",
       "<style scoped>\n",
       "    .dataframe tbody tr th:only-of-type {\n",
       "        vertical-align: middle;\n",
       "    }\n",
       "\n",
       "    .dataframe tbody tr th {\n",
       "        vertical-align: top;\n",
       "    }\n",
       "\n",
       "    .dataframe thead th {\n",
       "        text-align: right;\n",
       "    }\n",
       "</style>\n",
       "<table border=\"1\" class=\"dataframe\">\n",
       "  <thead>\n",
       "    <tr style=\"text-align: right;\">\n",
       "      <th></th>\n",
       "      <th>TTLCONS</th>\n",
       "    </tr>\n",
       "    <tr>\n",
       "      <th>DATE</th>\n",
       "      <th></th>\n",
       "    </tr>\n",
       "  </thead>\n",
       "  <tbody>\n",
       "    <tr>\n",
       "      <th>1993-01-01</th>\n",
       "      <td>458.080</td>\n",
       "    </tr>\n",
       "    <tr>\n",
       "      <th>1993-02-01</th>\n",
       "      <td>462.967</td>\n",
       "    </tr>\n",
       "    <tr>\n",
       "      <th>1993-03-01</th>\n",
       "      <td>458.399</td>\n",
       "    </tr>\n",
       "    <tr>\n",
       "      <th>1993-04-01</th>\n",
       "      <td>469.425</td>\n",
       "    </tr>\n",
       "    <tr>\n",
       "      <th>1993-05-01</th>\n",
       "      <td>468.998</td>\n",
       "    </tr>\n",
       "  </tbody>\n",
       "</table>\n",
       "</div>"
      ],
      "text/plain": [
       "            TTLCONS\n",
       "DATE               \n",
       "1993-01-01  458.080\n",
       "1993-02-01  462.967\n",
       "1993-03-01  458.399\n",
       "1993-04-01  469.425\n",
       "1993-05-01  468.998"
      ]
     },
     "execution_count": 4,
     "metadata": {},
     "output_type": "execute_result"
    }
   ],
   "source": [
    "df2 = pd.read_csv('Econometric/TTLCONS.csv', index_col='DATE',parse_dates=True)\n",
    "df2.index.freq = 'MS'\n",
    "df2['TTLCONS'] = df2['TTLCONS']/1000\n",
    "df2.head()"
   ]
  },
  {
   "cell_type": "markdown",
   "id": "4c0ac566",
   "metadata": {},
   "source": [
    "## Domestic Auto Production\n",
    "https://fred.stlouisfed.org/series/DAUPSA"
   ]
  },
  {
   "cell_type": "code",
   "execution_count": 5,
   "id": "c9726bd4",
   "metadata": {},
   "outputs": [
    {
     "data": {
      "text/html": [
       "<div>\n",
       "<style scoped>\n",
       "    .dataframe tbody tr th:only-of-type {\n",
       "        vertical-align: middle;\n",
       "    }\n",
       "\n",
       "    .dataframe tbody tr th {\n",
       "        vertical-align: top;\n",
       "    }\n",
       "\n",
       "    .dataframe thead th {\n",
       "        text-align: right;\n",
       "    }\n",
       "</style>\n",
       "<table border=\"1\" class=\"dataframe\">\n",
       "  <thead>\n",
       "    <tr style=\"text-align: right;\">\n",
       "      <th></th>\n",
       "      <th>DAUPSA</th>\n",
       "    </tr>\n",
       "    <tr>\n",
       "      <th>DATE</th>\n",
       "      <th></th>\n",
       "    </tr>\n",
       "  </thead>\n",
       "  <tbody>\n",
       "    <tr>\n",
       "      <th>1993-01-01</th>\n",
       "      <td>512.9</td>\n",
       "    </tr>\n",
       "    <tr>\n",
       "      <th>1993-02-01</th>\n",
       "      <td>503.8</td>\n",
       "    </tr>\n",
       "    <tr>\n",
       "      <th>1993-03-01</th>\n",
       "      <td>498.1</td>\n",
       "    </tr>\n",
       "    <tr>\n",
       "      <th>1993-04-01</th>\n",
       "      <td>510.2</td>\n",
       "    </tr>\n",
       "    <tr>\n",
       "      <th>1993-05-01</th>\n",
       "      <td>512.8</td>\n",
       "    </tr>\n",
       "  </tbody>\n",
       "</table>\n",
       "</div>"
      ],
      "text/plain": [
       "            DAUPSA\n",
       "DATE              \n",
       "1993-01-01   512.9\n",
       "1993-02-01   503.8\n",
       "1993-03-01   498.1\n",
       "1993-04-01   510.2\n",
       "1993-05-01   512.8"
      ]
     },
     "execution_count": 5,
     "metadata": {},
     "output_type": "execute_result"
    }
   ],
   "source": [
    "df3 =  pd.read_csv('Econometric/DAUPSA.csv', index_col='DATE',parse_dates=True)\n",
    "df3.head()"
   ]
  },
  {
   "cell_type": "markdown",
   "id": "ecd7dfa5",
   "metadata": {},
   "source": [
    "##  Industrial Production: Total Index \n",
    "https://fred.stlouisfed.org/series/INDPRO"
   ]
  },
  {
   "cell_type": "code",
   "execution_count": 6,
   "id": "d82b860a",
   "metadata": {},
   "outputs": [
    {
     "data": {
      "text/html": [
       "<div>\n",
       "<style scoped>\n",
       "    .dataframe tbody tr th:only-of-type {\n",
       "        vertical-align: middle;\n",
       "    }\n",
       "\n",
       "    .dataframe tbody tr th {\n",
       "        vertical-align: top;\n",
       "    }\n",
       "\n",
       "    .dataframe thead th {\n",
       "        text-align: right;\n",
       "    }\n",
       "</style>\n",
       "<table border=\"1\" class=\"dataframe\">\n",
       "  <thead>\n",
       "    <tr style=\"text-align: right;\">\n",
       "      <th></th>\n",
       "      <th>INDPRO</th>\n",
       "    </tr>\n",
       "    <tr>\n",
       "      <th>DATE</th>\n",
       "      <th></th>\n",
       "    </tr>\n",
       "  </thead>\n",
       "  <tbody>\n",
       "    <tr>\n",
       "      <th>1919-01-01</th>\n",
       "      <td>4.8665</td>\n",
       "    </tr>\n",
       "    <tr>\n",
       "      <th>1919-02-01</th>\n",
       "      <td>4.6514</td>\n",
       "    </tr>\n",
       "    <tr>\n",
       "      <th>1919-03-01</th>\n",
       "      <td>4.5170</td>\n",
       "    </tr>\n",
       "    <tr>\n",
       "      <th>1919-04-01</th>\n",
       "      <td>4.5976</td>\n",
       "    </tr>\n",
       "    <tr>\n",
       "      <th>1919-05-01</th>\n",
       "      <td>4.6245</td>\n",
       "    </tr>\n",
       "  </tbody>\n",
       "</table>\n",
       "</div>"
      ],
      "text/plain": [
       "            INDPRO\n",
       "DATE              \n",
       "1919-01-01  4.8665\n",
       "1919-02-01  4.6514\n",
       "1919-03-01  4.5170\n",
       "1919-04-01  4.5976\n",
       "1919-05-01  4.6245"
      ]
     },
     "execution_count": 6,
     "metadata": {},
     "output_type": "execute_result"
    }
   ],
   "source": [
    "df4 =  pd.read_csv('Econometric/INDPRO.csv', index_col='DATE',parse_dates=True)\n",
    "df4.head()"
   ]
  },
  {
   "cell_type": "markdown",
   "id": "e2e50fc3",
   "metadata": {},
   "source": [
    "https://fred.stlouisfed.org/series/WPU107301"
   ]
  },
  {
   "cell_type": "code",
   "execution_count": 7,
   "id": "17842527",
   "metadata": {},
   "outputs": [
    {
     "data": {
      "text/html": [
       "<div>\n",
       "<style scoped>\n",
       "    .dataframe tbody tr th:only-of-type {\n",
       "        vertical-align: middle;\n",
       "    }\n",
       "\n",
       "    .dataframe tbody tr th {\n",
       "        vertical-align: top;\n",
       "    }\n",
       "\n",
       "    .dataframe thead th {\n",
       "        text-align: right;\n",
       "    }\n",
       "</style>\n",
       "<table border=\"1\" class=\"dataframe\">\n",
       "  <thead>\n",
       "    <tr style=\"text-align: right;\">\n",
       "      <th></th>\n",
       "      <th>Price</th>\n",
       "    </tr>\n",
       "    <tr>\n",
       "      <th>DATE</th>\n",
       "      <th></th>\n",
       "    </tr>\n",
       "  </thead>\n",
       "  <tbody>\n",
       "    <tr>\n",
       "      <th>1982-12-01</th>\n",
       "      <td>100.0</td>\n",
       "    </tr>\n",
       "    <tr>\n",
       "      <th>1983-01-01</th>\n",
       "      <td>99.4</td>\n",
       "    </tr>\n",
       "    <tr>\n",
       "      <th>1983-02-01</th>\n",
       "      <td>99.7</td>\n",
       "    </tr>\n",
       "    <tr>\n",
       "      <th>1983-03-01</th>\n",
       "      <td>100.1</td>\n",
       "    </tr>\n",
       "    <tr>\n",
       "      <th>1983-04-01</th>\n",
       "      <td>100.3</td>\n",
       "    </tr>\n",
       "  </tbody>\n",
       "</table>\n",
       "</div>"
      ],
      "text/plain": [
       "            Price\n",
       "DATE             \n",
       "1982-12-01  100.0\n",
       "1983-01-01   99.4\n",
       "1983-02-01   99.7\n",
       "1983-03-01  100.1\n",
       "1983-04-01  100.3"
      ]
     },
     "execution_count": 7,
     "metadata": {},
     "output_type": "execute_result"
    }
   ],
   "source": [
    "df5 = pd.read_csv('Sheet_metal_mng.csv', index_col='Date',parse_dates=True)\n",
    "df5 = df5.rename_axis('DATE')\n",
    "df5.head()"
   ]
  },
  {
   "cell_type": "code",
   "execution_count": 8,
   "id": "70f7c916",
   "metadata": {},
   "outputs": [
    {
     "data": {
      "text/html": [
       "<div>\n",
       "<style scoped>\n",
       "    .dataframe tbody tr th:only-of-type {\n",
       "        vertical-align: middle;\n",
       "    }\n",
       "\n",
       "    .dataframe tbody tr th {\n",
       "        vertical-align: top;\n",
       "    }\n",
       "\n",
       "    .dataframe thead th {\n",
       "        text-align: right;\n",
       "    }\n",
       "</style>\n",
       "<table border=\"1\" class=\"dataframe\">\n",
       "  <thead>\n",
       "    <tr style=\"text-align: right;\">\n",
       "      <th></th>\n",
       "      <th>GDP</th>\n",
       "      <th>TTLCONS</th>\n",
       "      <th>DAUPSA</th>\n",
       "      <th>INDPRO</th>\n",
       "      <th>Price</th>\n",
       "    </tr>\n",
       "    <tr>\n",
       "      <th>DATE</th>\n",
       "      <th></th>\n",
       "      <th></th>\n",
       "      <th></th>\n",
       "      <th></th>\n",
       "      <th></th>\n",
       "    </tr>\n",
       "  </thead>\n",
       "  <tbody>\n",
       "    <tr>\n",
       "      <th>1993-01-01</th>\n",
       "      <td>6729.459000</td>\n",
       "      <td>458.080</td>\n",
       "      <td>512.9</td>\n",
       "      <td>64.6256</td>\n",
       "      <td>126.9</td>\n",
       "    </tr>\n",
       "    <tr>\n",
       "      <th>1993-02-01</th>\n",
       "      <td>6755.952333</td>\n",
       "      <td>462.967</td>\n",
       "      <td>503.8</td>\n",
       "      <td>64.9290</td>\n",
       "      <td>126.4</td>\n",
       "    </tr>\n",
       "    <tr>\n",
       "      <th>1993-03-01</th>\n",
       "      <td>6782.445667</td>\n",
       "      <td>458.399</td>\n",
       "      <td>498.1</td>\n",
       "      <td>64.8720</td>\n",
       "      <td>127.1</td>\n",
       "    </tr>\n",
       "    <tr>\n",
       "      <th>1993-04-01</th>\n",
       "      <td>6808.939000</td>\n",
       "      <td>469.425</td>\n",
       "      <td>510.2</td>\n",
       "      <td>65.0611</td>\n",
       "      <td>127.3</td>\n",
       "    </tr>\n",
       "    <tr>\n",
       "      <th>1993-05-01</th>\n",
       "      <td>6833.325333</td>\n",
       "      <td>468.998</td>\n",
       "      <td>512.8</td>\n",
       "      <td>64.8104</td>\n",
       "      <td>126.5</td>\n",
       "    </tr>\n",
       "  </tbody>\n",
       "</table>\n",
       "</div>"
      ],
      "text/plain": [
       "                    GDP  TTLCONS  DAUPSA   INDPRO  Price\n",
       "DATE                                                    \n",
       "1993-01-01  6729.459000  458.080   512.9  64.6256  126.9\n",
       "1993-02-01  6755.952333  462.967   503.8  64.9290  126.4\n",
       "1993-03-01  6782.445667  458.399   498.1  64.8720  127.1\n",
       "1993-04-01  6808.939000  469.425   510.2  65.0611  127.3\n",
       "1993-05-01  6833.325333  468.998   512.8  64.8104  126.5"
      ]
     },
     "execution_count": 8,
     "metadata": {},
     "output_type": "execute_result"
    }
   ],
   "source": [
    "# Concatenate the DataFrames along rows using pd.concat()\n",
    "data_frames = [df1, df2, df3, df4, df5]\n",
    "df = pd.concat(data_frames, axis=1, join='inner')  # 'inner' join retains only mutual dates\n",
    "df.head()"
   ]
  },
  {
   "cell_type": "code",
   "execution_count": 9,
   "id": "63858199",
   "metadata": {},
   "outputs": [
    {
     "name": "stdout",
     "output_type": "stream",
     "text": [
      "                            OLS Regression Results                            \n",
      "==============================================================================\n",
      "Dep. Variable:                  Price   R-squared:                       0.957\n",
      "Model:                            OLS   Adj. R-squared:                  0.957\n",
      "Method:                 Least Squares   F-statistic:                     1932.\n",
      "Date:                Fri, 08 Sep 2023   Prob (F-statistic):          1.17e-235\n",
      "Time:                        11:59:45   Log-Likelihood:                -1181.7\n",
      "No. Observations:                 352   AIC:                             2373.\n",
      "Df Residuals:                     347   BIC:                             2393.\n",
      "Df Model:                           4                                         \n",
      "Covariance Type:            nonrobust                                         \n",
      "==============================================================================\n",
      "                 coef    std err          t      P>|t|      [0.025      0.975]\n",
      "------------------------------------------------------------------------------\n",
      "const        116.4369      5.618     20.726      0.000     105.388     127.486\n",
      "GDP            0.0075      0.000     31.817      0.000       0.007       0.008\n",
      "TTLCONS       -0.0101      0.003     -3.414      0.001      -0.016      -0.004\n",
      "DAUPSA        -0.0231      0.006     -3.660      0.000      -0.036      -0.011\n",
      "INDPRO        -0.3384      0.062     -5.427      0.000      -0.461      -0.216\n",
      "==============================================================================\n",
      "Omnibus:                      107.331   Durbin-Watson:                   0.048\n",
      "Prob(Omnibus):                  0.000   Jarque-Bera (JB):              419.131\n",
      "Skew:                           1.282   Prob(JB):                     9.70e-92\n",
      "Kurtosis:                       7.691   Cond. No.                     2.27e+05\n",
      "==============================================================================\n",
      "\n",
      "Notes:\n",
      "[1] Standard Errors assume that the covariance matrix of the errors is correctly specified.\n",
      "[2] The condition number is large, 2.27e+05. This might indicate that there are\n",
      "strong multicollinearity or other numerical problems.\n",
      "\n",
      "\n",
      "\n",
      "Econometrics Forecast Mean Squared Error: 1627.967576439556\n",
      "Econometrics Forecast Root Mean Squared Error: 40.34808020760784\n",
      "Price Mean: 178.3024176\n",
      "Prediction Price Mean:  256.075671\n"
     ]
    },
    {
     "data": {
      "image/png": "[encoded data removed]",
      "text/plain": [
       "<Figure size 1200x600 with 1 Axes>"
      ]
     },
     "metadata": {},
     "output_type": "display_data"
    }
   ],
   "source": [
    "train = df.iloc[:-12]  \n",
    "test = df.iloc[-12:]   # Last 12 rows for testing\n",
    "\n",
    "# Define the dependent variable (MetalSheetDemand) and independent variables\n",
    "y = train['Price']\n",
    "X = train[['GDP', 'TTLCONS', 'DAUPSA', 'INDPRO']]\n",
    "\n",
    "# Add a constant term to the independent variables\n",
    "X = sm.add_constant(X)\n",
    "\n",
    "# Fit the model\n",
    "model = sm.OLS(y, X)\n",
    "results = model.fit()\n",
    "\n",
    "# Print the model summary\n",
    "print(results.summary())\n",
    "\n",
    "# Forecast future outcomes\n",
    "forecast_X = test[['GDP', 'TTLCONS', 'DAUPSA', 'INDPRO']]\n",
    "forecast_X = sm.add_constant(forecast_X) \n",
    "forecasted_Price = results.predict(forecast_X)\n",
    "\n",
    "# Calculate ARIMA MSE and RMSE\n",
    "Eco_mse = mean_squared_error(test['Price'], forecasted_Price)\n",
    "Eco_rmse = np.sqrt(Eco_mse)\n",
    "\n",
    "print(\"\\n\\n\")\n",
    "print(\"Econometrics Forecast Mean Squared Error:\", Eco_mse)\n",
    "print(\"Econometrics Forecast Root Mean Squared Error:\", Eco_rmse)\n",
    "print(f'Price Mean: {df.Price.mean():11.10}')\n",
    "print(f'Prediction Price Mean: {forecasted_Price.mean():11.10}')\n",
    "\n",
    "# Plotting the ARIMA forecast and actual test values\n",
    "plt.figure(figsize=(12, 6))\n",
    "plt.plot(df.index, df['Price'], color='blue', label='Actual Test Price')  # Plotting actual values\n",
    "plt.plot(forecasted_Price.index, forecasted_Price, color='green', label='Econometrics Forecast')  # Plotting Econometrics forecast\n",
    "plt.xlabel('DATE')\n",
    "plt.ylabel('Price')\n",
    "plt.title('Econometrics Forecast vs. Actual Values')\n",
    "plt.legend()\n",
    "plt.grid()\n",
    "plt.show()"
   ]
  },
  {
   "cell_type": "code",
   "execution_count": 10,
   "id": "a717c260",
   "metadata": {},
   "outputs": [
    {
     "data": {
      "text/html": [
       "<div>\n",
       "<style scoped>\n",
       "    .dataframe tbody tr th:only-of-type {\n",
       "        vertical-align: middle;\n",
       "    }\n",
       "\n",
       "    .dataframe tbody tr th {\n",
       "        vertical-align: top;\n",
       "    }\n",
       "\n",
       "    .dataframe thead th {\n",
       "        text-align: right;\n",
       "    }\n",
       "</style>\n",
       "<table border=\"1\" class=\"dataframe\">\n",
       "  <thead>\n",
       "    <tr style=\"text-align: right;\">\n",
       "      <th></th>\n",
       "      <th>GDP</th>\n",
       "      <th>TTLCONS</th>\n",
       "      <th>DAUPSA</th>\n",
       "      <th>INDPRO</th>\n",
       "      <th>Price</th>\n",
       "    </tr>\n",
       "    <tr>\n",
       "      <th>DATE</th>\n",
       "      <th></th>\n",
       "      <th></th>\n",
       "      <th></th>\n",
       "      <th></th>\n",
       "      <th></th>\n",
       "    </tr>\n",
       "  </thead>\n",
       "  <tbody>\n",
       "    <tr>\n",
       "      <th>1993-01-01</th>\n",
       "      <td>0.000000</td>\n",
       "      <td>0.000000</td>\n",
       "      <td>0.870869</td>\n",
       "      <td>0.000000</td>\n",
       "      <td>0.002889</td>\n",
       "    </tr>\n",
       "    <tr>\n",
       "      <th>1993-02-01</th>\n",
       "      <td>0.001318</td>\n",
       "      <td>0.003371</td>\n",
       "      <td>0.855366</td>\n",
       "      <td>0.007682</td>\n",
       "      <td>0.000000</td>\n",
       "    </tr>\n",
       "    <tr>\n",
       "      <th>1993-03-01</th>\n",
       "      <td>0.002635</td>\n",
       "      <td>0.000220</td>\n",
       "      <td>0.845656</td>\n",
       "      <td>0.006239</td>\n",
       "      <td>0.004045</td>\n",
       "    </tr>\n",
       "    <tr>\n",
       "      <th>1993-04-01</th>\n",
       "      <td>0.003953</td>\n",
       "      <td>0.007825</td>\n",
       "      <td>0.866269</td>\n",
       "      <td>0.011027</td>\n",
       "      <td>0.005200</td>\n",
       "    </tr>\n",
       "    <tr>\n",
       "      <th>1993-05-01</th>\n",
       "      <td>0.005166</td>\n",
       "      <td>0.007531</td>\n",
       "      <td>0.870698</td>\n",
       "      <td>0.004679</td>\n",
       "      <td>0.000578</td>\n",
       "    </tr>\n",
       "  </tbody>\n",
       "</table>\n",
       "</div>"
      ],
      "text/plain": [
       "                 GDP   TTLCONS    DAUPSA    INDPRO     Price\n",
       "DATE                                                        \n",
       "1993-01-01  0.000000  0.000000  0.870869  0.000000  0.002889\n",
       "1993-02-01  0.001318  0.003371  0.855366  0.007682  0.000000\n",
       "1993-03-01  0.002635  0.000220  0.845656  0.006239  0.004045\n",
       "1993-04-01  0.003953  0.007825  0.866269  0.011027  0.005200\n",
       "1993-05-01  0.005166  0.007531  0.870698  0.004679  0.000578"
      ]
     },
     "execution_count": 10,
     "metadata": {},
     "output_type": "execute_result"
    }
   ],
   "source": [
    "\n",
    "# Define the Min-Max scaling function\n",
    "def min_max_scaling(column):\n",
    "    min_val = column.min()\n",
    "    max_val = column.max()\n",
    "    return (column - min_val) / (max_val - min_val)\n",
    "\n",
    "# Apply Min-Max scaling to each column\n",
    "df = df.apply(min_max_scaling)\n",
    "df.head()"
   ]
  },
  {
   "cell_type": "code",
   "execution_count": 11,
   "id": "3d3a810b",
   "metadata": {},
   "outputs": [
    {
     "data": {
      "text/plain": [
       "GDP        0.0\n",
       "TTLCONS    0.0\n",
       "DAUPSA     0.0\n",
       "INDPRO     0.0\n",
       "Price      0.0\n",
       "dtype: float64"
      ]
     },
     "execution_count": 11,
     "metadata": {},
     "output_type": "execute_result"
    }
   ],
   "source": [
    "df.min()"
   ]
  },
  {
   "cell_type": "code",
   "execution_count": 12,
   "id": "36f70dbd",
   "metadata": {},
   "outputs": [
    {
     "data": {
      "text/plain": [
       "GDP        1.0\n",
       "TTLCONS    1.0\n",
       "DAUPSA     1.0\n",
       "INDPRO     1.0\n",
       "Price      1.0\n",
       "dtype: float64"
      ]
     },
     "execution_count": 12,
     "metadata": {},
     "output_type": "execute_result"
    }
   ],
   "source": [
    "df.max()"
   ]
  },
  {
   "cell_type": "code",
   "execution_count": 13,
   "id": "650da42f",
   "metadata": {},
   "outputs": [
    {
     "name": "stdout",
     "output_type": "stream",
     "text": [
      "                            OLS Regression Results                            \n",
      "==============================================================================\n",
      "Dep. Variable:                  Price   R-squared:                       0.957\n",
      "Model:                            OLS   Adj. R-squared:                  0.957\n",
      "Method:                 Least Squares   F-statistic:                     1932.\n",
      "Date:                Fri, 08 Sep 2023   Prob (F-statistic):          1.17e-235\n",
      "Time:                        12:00:20   Log-Likelihood:                 632.40\n",
      "No. Observations:                 352   AIC:                            -1255.\n",
      "Df Residuals:                     347   BIC:                            -1235.\n",
      "Df Model:                           4                                         \n",
      "Covariance Type:            nonrobust                                         \n",
      "==============================================================================\n",
      "                 coef    std err          t      P>|t|      [0.025      0.975]\n",
      "------------------------------------------------------------------------------\n",
      "const          0.0813      0.019      4.249      0.000       0.044       0.119\n",
      "GDP            0.8733      0.027     31.817      0.000       0.819       0.927\n",
      "TTLCONS       -0.0848      0.025     -3.414      0.001      -0.134      -0.036\n",
      "DAUPSA        -0.0785      0.021     -3.660      0.000      -0.121      -0.036\n",
      "INDPRO        -0.0772      0.014     -5.427      0.000      -0.105      -0.049\n",
      "==============================================================================\n",
      "Omnibus:                      107.331   Durbin-Watson:                   0.048\n",
      "Prob(Omnibus):                  0.000   Jarque-Bera (JB):              419.131\n",
      "Skew:                           1.282   Prob(JB):                     9.70e-92\n",
      "Kurtosis:                       7.691   Cond. No.                         24.0\n",
      "==============================================================================\n",
      "\n",
      "Notes:\n",
      "[1] Standard Errors assume that the covariance matrix of the errors is correctly specified.\n",
      "\n",
      "\n",
      "\n",
      "Econometrics Forecast Mean Squared Error: 0.05435535221629884\n",
      "Econometrics Forecast Root Mean Squared Error: 0.23314234325042468\n",
      "Price Mean: 0.2999064935\n",
      "Prediction Price Mean: 0.7493018166\n"
     ]
    },
    {
     "data": {
      "image/png": "[encoded data removed]",
      "text/plain": [
       "<Figure size 1200x600 with 1 Axes>"
      ]
     },
     "metadata": {},
     "output_type": "display_data"
    }
   ],
   "source": [
    "train = df.iloc[:-12]  # All except the last 12 rows\n",
    "test = df.iloc[-12:]   # Last 12 rows for testing\n",
    "\n",
    "# Define the dependent variable (MetalSheetDemand) and independent variables\n",
    "y_train = train['Price']\n",
    "X_train = train[['GDP', 'TTLCONS', 'DAUPSA', 'INDPRO']]\n",
    "X_test = test[['GDP', 'TTLCONS', 'DAUPSA', 'INDPRO']]\n",
    "y_test = test['Price']\n",
    "\n",
    "# Add a constant term to the independent variables\n",
    "X_train = sm.add_constant(X_train)\n",
    "\n",
    "# Fit the model\n",
    "model = sm.OLS(y_train, X_train)\n",
    "results = model.fit()\n",
    "\n",
    "# Print the model summary\n",
    "print(results.summary())\n",
    "\n",
    "# Forecast future outcomes\n",
    "# forecast_X = test[['GDP', 'TTLCONS', 'DAUPSA', 'INDPRO']] \n",
    "X_test = sm.add_constant(X_test) \n",
    "forecasted_Price = results.predict(X_test)\n",
    "\n",
    "forecasted_train = results.predict(X_train)\n",
    "\n",
    "# Calculate MSE and RMSE\n",
    "Eco_mse = mean_squared_error(test['Price'], forecasted_Price)\n",
    "Eco_rmse = np.sqrt(Eco_mse)\n",
    "\n",
    "print(\"\\n\\n\")\n",
    "print(\"Econometrics Forecast Mean Squared Error:\", Eco_mse)\n",
    "print(\"Econometrics Forecast Root Mean Squared Error:\", Eco_rmse)\n",
    "print(f'Price Mean: {df.Price.mean():11.10}')\n",
    "print(f'Prediction Price Mean: {forecasted_Price.mean():11.10}')\n",
    "\n",
    "# Plotting the forecast and actual test values\n",
    "plt.figure(figsize=(12, 6))\n",
    "plt.plot(df.index, df['Price'], color='blue', label='Actual Test Price')  # Plotting actual values\n",
    "plt.plot(forecasted_Price.index, forecasted_Price, color='green', label='Econometrics Forecast')  # Plotting Econometrics forecast\n",
    "plt.plot(forecasted_train.index, forecasted_train, color='orange', label='Econometrics Forecast')  # Plotting Econometrics train forecast\n",
    "plt.xlabel('DATE')\n",
    "plt.ylabel('Price')\n",
    "plt.title('Econometrics Forecast vs. Actual Values')\n",
    "plt.legend()\n",
    "plt.grid()\n",
    "plt.show()"
   ]
  },
  {
   "cell_type": "code",
   "execution_count": 14,
   "id": "e62f6466",
   "metadata": {},
   "outputs": [
    {
     "name": "stdout",
     "output_type": "stream",
     "text": [
      "\n",
      "\n",
      "\n",
      "Econometrics Forecast Mean Squared Error: 0.054355352216298634\n",
      "Econometrics Forecast Root Mean Squared Error: 0.23314234325042424\n",
      "Price Mean: 0.2999064935\n",
      "Prediction Price Mean: 0.7493018166\n"
     ]
    },
    {
     "data": {
      "image/png": "[encoded data removed]",
      "text/plain": [
       "<Figure size 1200x600 with 1 Axes>"
      ]
     },
     "metadata": {},
     "output_type": "display_data"
    }
   ],
   "source": [
    "from sklearn.linear_model import LinearRegression\n",
    "\n",
    "train = df.iloc[:-12]  # All except the last 12 rows\n",
    "test = df.iloc[-12:]   # Last 12 rows for testing\n",
    "\n",
    "# Define the dependent variable (MetalSheetDemand) and independent variables\n",
    "y_train = train['Price']\n",
    "X_train = train[['GDP', 'TTLCONS', 'DAUPSA', 'INDPRO']]\n",
    "X_test = test[['GDP', 'TTLCONS', 'DAUPSA', 'INDPRO']]\n",
    "y_test = test['Price']\n",
    "\n",
    "model = LinearRegression()\n",
    "model.fit(X_train, y_train)\n",
    "\n",
    "# Predict the model\n",
    "y_pred = model.predict(X_test)\n",
    "y_pred_train = model.predict(X_train)\n",
    "# Calculate ARIMA MSE and RMSE\n",
    "Eco_mse = mean_squared_error(y_test, y_pred)\n",
    "Eco_rmse = np.sqrt(Eco_mse)\n",
    "\n",
    "print(\"\\n\\n\")\n",
    "print(\"Econometrics Forecast Mean Squared Error:\", Eco_mse)\n",
    "print(\"Econometrics Forecast Root Mean Squared Error:\", Eco_rmse)\n",
    "print(f'Price Mean: {df.Price.mean():11.10}')\n",
    "print(f'Prediction Price Mean: {y_pred.mean():11.10}')\n",
    "\n",
    "# Plotting the ARIMA forecast and actual test values\n",
    "plt.figure(figsize=(12, 6))\n",
    "plt.plot(df.index, df['Price'], color='blue', label='Actual Test Price')  # Plotting actual values\n",
    "plt.plot(y_train.index, y_pred_train, color='orange', label='Train data')  # Plotting Econometrics forecast\n",
    "plt.plot(y_test.index, y_pred, color='green', label='Econometrics Forecast')  # Plotting Econometrics forecast\n",
    "plt.xlabel('DATE')\n",
    "plt.ylabel('Price')\n",
    "plt.title('Econometrics Forecast vs. Actual Values')\n",
    "plt.legend()\n",
    "plt.grid()\n",
    "plt.show()\n"
   ]
  },
  {
   "cell_type": "code",
   "execution_count": null,
   "id": "63261ba7",
   "metadata": {},
   "outputs": [],
   "source": []
  }
 ],
 "metadata": {
  "kernelspec": {
   "display_name": "Python 3 (ipykernel)",
   "language": "python",
   "name": "python3"
  },
  "language_info": {
   "codemirror_mode": {
    "name": "ipython",
    "version": 3
   },
   "file_extension": ".py",
   "mimetype": "text/x-python",
   "name": "python",
   "nbconvert_exporter": "python",
   "pygments_lexer": "ipython3",
   "version": "3.11.3"
  }
 },
 "nbformat": 4,
 "nbformat_minor": 5
}
